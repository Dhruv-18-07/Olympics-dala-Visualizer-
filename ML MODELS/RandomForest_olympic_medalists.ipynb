{
 "cells": [
  {
   "cell_type": "code",
   "execution_count": 1,
   "metadata": {},
   "outputs": [],
   "source": [
    "import pandas as pd\n",
    "import matplotlib.pyplot as plt\n",
    "import numpy as np\n",
    "from sklearn import tree\n",
    "from sklearn.model_selection import train_test_split\n",
    "from sklearn.ensemble import RandomForestClassifier"
   ]
  },
  {
   "cell_type": "code",
   "execution_count": 2,
   "metadata": {},
   "outputs": [],
   "source": [
    "# reading csv file\n",
    "athlete_events = pd.read_csv('../CSV for ML models/athlete_events.csv')"
   ]
  },
  {
   "cell_type": "code",
   "execution_count": 3,
   "metadata": {},
   "outputs": [
    {
     "data": {
      "text/html": [
       "<div>\n",
       "<style scoped>\n",
       "    .dataframe tbody tr th:only-of-type {\n",
       "        vertical-align: middle;\n",
       "    }\n",
       "\n",
       "    .dataframe tbody tr th {\n",
       "        vertical-align: top;\n",
       "    }\n",
       "\n",
       "    .dataframe thead th {\n",
       "        text-align: right;\n",
       "    }\n",
       "</style>\n",
       "<table border=\"1\" class=\"dataframe\">\n",
       "  <thead>\n",
       "    <tr style=\"text-align: right;\">\n",
       "      <th></th>\n",
       "      <th>ID</th>\n",
       "      <th>Name</th>\n",
       "      <th>Sex</th>\n",
       "      <th>Age</th>\n",
       "      <th>Height</th>\n",
       "      <th>Weight</th>\n",
       "      <th>Team</th>\n",
       "      <th>NOC</th>\n",
       "      <th>Games</th>\n",
       "      <th>Year</th>\n",
       "      <th>Season</th>\n",
       "      <th>City</th>\n",
       "      <th>Sport</th>\n",
       "      <th>Event</th>\n",
       "      <th>Medal</th>\n",
       "    </tr>\n",
       "  </thead>\n",
       "  <tbody>\n",
       "    <tr>\n",
       "      <th>0</th>\n",
       "      <td>1</td>\n",
       "      <td>A Dijiang</td>\n",
       "      <td>M</td>\n",
       "      <td>24.0</td>\n",
       "      <td>180.0</td>\n",
       "      <td>80.0</td>\n",
       "      <td>China</td>\n",
       "      <td>CHN</td>\n",
       "      <td>1992 Summer</td>\n",
       "      <td>1992</td>\n",
       "      <td>Summer</td>\n",
       "      <td>Barcelona</td>\n",
       "      <td>Basketball</td>\n",
       "      <td>Basketball Men's Basketball</td>\n",
       "      <td>NaN</td>\n",
       "    </tr>\n",
       "    <tr>\n",
       "      <th>1</th>\n",
       "      <td>2</td>\n",
       "      <td>A Lamusi</td>\n",
       "      <td>M</td>\n",
       "      <td>23.0</td>\n",
       "      <td>170.0</td>\n",
       "      <td>60.0</td>\n",
       "      <td>China</td>\n",
       "      <td>CHN</td>\n",
       "      <td>2012 Summer</td>\n",
       "      <td>2012</td>\n",
       "      <td>Summer</td>\n",
       "      <td>London</td>\n",
       "      <td>Judo</td>\n",
       "      <td>Judo Men's Extra-Lightweight</td>\n",
       "      <td>NaN</td>\n",
       "    </tr>\n",
       "    <tr>\n",
       "      <th>2</th>\n",
       "      <td>3</td>\n",
       "      <td>Gunnar Nielsen Aaby</td>\n",
       "      <td>M</td>\n",
       "      <td>24.0</td>\n",
       "      <td>NaN</td>\n",
       "      <td>NaN</td>\n",
       "      <td>Denmark</td>\n",
       "      <td>DEN</td>\n",
       "      <td>1920 Summer</td>\n",
       "      <td>1920</td>\n",
       "      <td>Summer</td>\n",
       "      <td>Antwerpen</td>\n",
       "      <td>Football</td>\n",
       "      <td>Football Men's Football</td>\n",
       "      <td>NaN</td>\n",
       "    </tr>\n",
       "    <tr>\n",
       "      <th>3</th>\n",
       "      <td>4</td>\n",
       "      <td>Edgar Lindenau Aabye</td>\n",
       "      <td>M</td>\n",
       "      <td>34.0</td>\n",
       "      <td>NaN</td>\n",
       "      <td>NaN</td>\n",
       "      <td>Denmark/Sweden</td>\n",
       "      <td>DEN</td>\n",
       "      <td>1900 Summer</td>\n",
       "      <td>1900</td>\n",
       "      <td>Summer</td>\n",
       "      <td>Paris</td>\n",
       "      <td>Tug-Of-War</td>\n",
       "      <td>Tug-Of-War Men's Tug-Of-War</td>\n",
       "      <td>Gold</td>\n",
       "    </tr>\n",
       "    <tr>\n",
       "      <th>4</th>\n",
       "      <td>5</td>\n",
       "      <td>Christine Jacoba Aaftink</td>\n",
       "      <td>F</td>\n",
       "      <td>21.0</td>\n",
       "      <td>185.0</td>\n",
       "      <td>82.0</td>\n",
       "      <td>Netherlands</td>\n",
       "      <td>NED</td>\n",
       "      <td>1988 Winter</td>\n",
       "      <td>1988</td>\n",
       "      <td>Winter</td>\n",
       "      <td>Calgary</td>\n",
       "      <td>Speed Skating</td>\n",
       "      <td>Speed Skating Women's 500 metres</td>\n",
       "      <td>NaN</td>\n",
       "    </tr>\n",
       "  </tbody>\n",
       "</table>\n",
       "</div>"
      ],
      "text/plain": [
       "   ID                      Name Sex   Age  Height  Weight            Team  \\\n",
       "0   1                 A Dijiang   M  24.0   180.0    80.0           China   \n",
       "1   2                  A Lamusi   M  23.0   170.0    60.0           China   \n",
       "2   3       Gunnar Nielsen Aaby   M  24.0     NaN     NaN         Denmark   \n",
       "3   4      Edgar Lindenau Aabye   M  34.0     NaN     NaN  Denmark/Sweden   \n",
       "4   5  Christine Jacoba Aaftink   F  21.0   185.0    82.0     Netherlands   \n",
       "\n",
       "   NOC        Games  Year  Season       City          Sport  \\\n",
       "0  CHN  1992 Summer  1992  Summer  Barcelona     Basketball   \n",
       "1  CHN  2012 Summer  2012  Summer     London           Judo   \n",
       "2  DEN  1920 Summer  1920  Summer  Antwerpen       Football   \n",
       "3  DEN  1900 Summer  1900  Summer      Paris     Tug-Of-War   \n",
       "4  NED  1988 Winter  1988  Winter    Calgary  Speed Skating   \n",
       "\n",
       "                              Event Medal  \n",
       "0       Basketball Men's Basketball   NaN  \n",
       "1      Judo Men's Extra-Lightweight   NaN  \n",
       "2           Football Men's Football   NaN  \n",
       "3       Tug-Of-War Men's Tug-Of-War  Gold  \n",
       "4  Speed Skating Women's 500 metres   NaN  "
      ]
     },
     "execution_count": 3,
     "metadata": {},
     "output_type": "execute_result"
    }
   ],
   "source": [
    "athlete_events.head()"
   ]
  },
  {
   "cell_type": "code",
   "execution_count": 4,
   "metadata": {},
   "outputs": [],
   "source": [
    "filter_data = athlete_events[[\"Sex\", \"Age\", \"Height\", \"Weight\", \"Team\", \"Year\", \"Season\", \"Sport\", \"Event\", \"Medal\"]]"
   ]
  },
  {
   "cell_type": "code",
   "execution_count": 5,
   "metadata": {},
   "outputs": [],
   "source": [
    "# get the data for summer and winter Olympic\n",
    "winter_data = filter_data[filter_data[\"Season\"] == \"Winter\"]\n",
    "summer_data = filter_data[(filter_data[\"Season\"] == \"Summer\")]"
   ]
  },
  {
   "cell_type": "code",
   "execution_count": 6,
   "metadata": {},
   "outputs": [],
   "source": [
    "summer_sports = summer_data[\"Sport\"].unique()"
   ]
  },
  {
   "cell_type": "code",
   "execution_count": 7,
   "metadata": {},
   "outputs": [
    {
     "name": "stderr",
     "output_type": "stream",
     "text": [
      "C:\\Users\\KIIT\\AppData\\Local\\Temp\\ipykernel_35732\\268472909.py:12: FutureWarning: Downcasting behavior in `replace` is deprecated and will be removed in a future version. To retain the old behavior, explicitly call `result.infer_objects(copy=False)`. To opt-in to the future behavior, set `pd.set_option('future.no_silent_downcasting', True)`\n",
      "  athlete_m  = athlete_m .replace(\"Bronze\", 1)\n"
     ]
    },
    {
     "name": "stdout",
     "output_type": "stream",
     "text": [
      "Basketball\n",
      "Training Data Score: 0.9723577235772358\n",
      "Testing Data Score: 0.6818181818181818\n",
      "[(np.float64(0.41985109636147844), 'Weight'), (np.float64(0.3508334679494867), 'Height'), (np.float64(0.22931543568903487), 'Age')]\n",
      "----------------------------------------------------\n",
      "Judo\n"
     ]
    },
    {
     "name": "stderr",
     "output_type": "stream",
     "text": [
      "C:\\Users\\KIIT\\AppData\\Local\\Temp\\ipykernel_35732\\268472909.py:12: FutureWarning: Downcasting behavior in `replace` is deprecated and will be removed in a future version. To retain the old behavior, explicitly call `result.infer_objects(copy=False)`. To opt-in to the future behavior, set `pd.set_option('future.no_silent_downcasting', True)`\n",
      "  athlete_m  = athlete_m .replace(\"Bronze\", 1)\n"
     ]
    },
    {
     "name": "stdout",
     "output_type": "stream",
     "text": [
      "Training Data Score: 0.9588963963963963\n",
      "Testing Data Score: 0.8229342327150084\n",
      "[(np.float64(0.38270664808239585), 'Weight'), (np.float64(0.37079987333510755), 'Height'), (np.float64(0.24649347858249654), 'Age')]\n",
      "----------------------------------------------------\n",
      "Football\n"
     ]
    },
    {
     "name": "stderr",
     "output_type": "stream",
     "text": [
      "C:\\Users\\KIIT\\AppData\\Local\\Temp\\ipykernel_35732\\268472909.py:12: FutureWarning: Downcasting behavior in `replace` is deprecated and will be removed in a future version. To retain the old behavior, explicitly call `result.infer_objects(copy=False)`. To opt-in to the future behavior, set `pd.set_option('future.no_silent_downcasting', True)`\n",
      "  athlete_m  = athlete_m .replace(\"Bronze\", 1)\n"
     ]
    },
    {
     "name": "stdout",
     "output_type": "stream",
     "text": [
      "Training Data Score: 0.9175019275250579\n",
      "Testing Data Score: 0.7017341040462428\n",
      "[(np.float64(0.38320290658983913), 'Weight'), (np.float64(0.3787616144308951), 'Height'), (np.float64(0.23803547897926577), 'Age')]\n",
      "----------------------------------------------------\n",
      "Tug-Of-War\n"
     ]
    },
    {
     "name": "stderr",
     "output_type": "stream",
     "text": [
      "C:\\Users\\KIIT\\AppData\\Local\\Temp\\ipykernel_35732\\268472909.py:12: FutureWarning: Downcasting behavior in `replace` is deprecated and will be removed in a future version. To retain the old behavior, explicitly call `result.infer_objects(copy=False)`. To opt-in to the future behavior, set `pd.set_option('future.no_silent_downcasting', True)`\n",
      "  athlete_m  = athlete_m .replace(\"Bronze\", 1)\n"
     ]
    },
    {
     "name": "stdout",
     "output_type": "stream",
     "text": [
      "Training Data Score: 1.0\n",
      "Testing Data Score: 0.4\n",
      "[(np.float64(0.4710302128662383), 'Weight'), (np.float64(0.2939658301179541), 'Height'), (np.float64(0.2350039570158077), 'Age')]\n",
      "----------------------------------------------------\n",
      "Athletics\n"
     ]
    },
    {
     "name": "stderr",
     "output_type": "stream",
     "text": [
      "C:\\Users\\KIIT\\AppData\\Local\\Temp\\ipykernel_35732\\268472909.py:12: FutureWarning: Downcasting behavior in `replace` is deprecated and will be removed in a future version. To retain the old behavior, explicitly call `result.infer_objects(copy=False)`. To opt-in to the future behavior, set `pd.set_option('future.no_silent_downcasting', True)`\n",
      "  athlete_m  = athlete_m .replace(\"Bronze\", 1)\n"
     ]
    },
    {
     "name": "stdout",
     "output_type": "stream",
     "text": [
      "Training Data Score: 0.9291903010658854\n",
      "Testing Data Score: 0.8586387434554974\n",
      "[(np.float64(0.4416479886928147), 'Weight'), (np.float64(0.320825815035618), 'Height'), (np.float64(0.23752619627156735), 'Age')]\n",
      "----------------------------------------------------\n"
     ]
    },
    {
     "name": "stderr",
     "output_type": "stream",
     "text": [
      "C:\\Users\\KIIT\\AppData\\Local\\Temp\\ipykernel_35732\\268472909.py:12: FutureWarning: Downcasting behavior in `replace` is deprecated and will be removed in a future version. To retain the old behavior, explicitly call `result.infer_objects(copy=False)`. To opt-in to the future behavior, set `pd.set_option('future.no_silent_downcasting', True)`\n",
      "  athlete_m  = athlete_m .replace(\"Bronze\", 1)\n"
     ]
    },
    {
     "name": "stdout",
     "output_type": "stream",
     "text": [
      "Swimming\n",
      "Training Data Score: 0.9191214470284238\n",
      "Testing Data Score: 0.8640061991476172\n",
      "[(np.float64(0.41535871731100743), 'Weight'), (np.float64(0.3454947824091523), 'Height'), (np.float64(0.2391465002798403), 'Age')]\n",
      "----------------------------------------------------\n",
      "Badminton\n"
     ]
    },
    {
     "name": "stderr",
     "output_type": "stream",
     "text": [
      "C:\\Users\\KIIT\\AppData\\Local\\Temp\\ipykernel_35732\\268472909.py:12: FutureWarning: Downcasting behavior in `replace` is deprecated and will be removed in a future version. To retain the old behavior, explicitly call `result.infer_objects(copy=False)`. To opt-in to the future behavior, set `pd.set_option('future.no_silent_downcasting', True)`\n",
      "  athlete_m  = athlete_m .replace(\"Bronze\", 1)\n"
     ]
    },
    {
     "name": "stdout",
     "output_type": "stream",
     "text": [
      "Training Data Score: 0.9771863117870723\n",
      "Testing Data Score: 0.8522727272727273\n",
      "[(np.float64(0.37690102001599274), 'Height'), (np.float64(0.34123307007471126), 'Weight'), (np.float64(0.281865909909296), 'Age')]\n",
      "----------------------------------------------------\n",
      "Sailing\n"
     ]
    },
    {
     "name": "stderr",
     "output_type": "stream",
     "text": [
      "C:\\Users\\KIIT\\AppData\\Local\\Temp\\ipykernel_35732\\268472909.py:12: FutureWarning: Downcasting behavior in `replace` is deprecated and will be removed in a future version. To retain the old behavior, explicitly call `result.infer_objects(copy=False)`. To opt-in to the future behavior, set `pd.set_option('future.no_silent_downcasting', True)`\n",
      "  athlete_m  = athlete_m .replace(\"Bronze\", 1)\n"
     ]
    },
    {
     "name": "stdout",
     "output_type": "stream",
     "text": [
      "Training Data Score: 0.9762859051436206\n",
      "Testing Data Score: 0.8306613226452906\n",
      "[(np.float64(0.3770807536529311), 'Weight'), (np.float64(0.34224231723518583), 'Age'), (np.float64(0.28067692911188313), 'Height')]\n",
      "----------------------------------------------------\n",
      "Gymnastics\n"
     ]
    },
    {
     "name": "stderr",
     "output_type": "stream",
     "text": [
      "C:\\Users\\KIIT\\AppData\\Local\\Temp\\ipykernel_35732\\268472909.py:12: FutureWarning: Downcasting behavior in `replace` is deprecated and will be removed in a future version. To retain the old behavior, explicitly call `result.infer_objects(copy=False)`. To opt-in to the future behavior, set `pd.set_option('future.no_silent_downcasting', True)`\n",
      "  athlete_m  = athlete_m .replace(\"Bronze\", 1)\n"
     ]
    },
    {
     "name": "stdout",
     "output_type": "stream",
     "text": [
      "Training Data Score: 0.9458987783595113\n",
      "Testing Data Score: 0.9345549738219895\n",
      "[(np.float64(0.3657140422916823), 'Age'), (np.float64(0.33528951125787315), 'Height'), (np.float64(0.2989964464504445), 'Weight')]\n",
      "----------------------------------------------------\n",
      "Art Competitions\n"
     ]
    },
    {
     "name": "stderr",
     "output_type": "stream",
     "text": [
      "C:\\Users\\KIIT\\AppData\\Local\\Temp\\ipykernel_35732\\268472909.py:12: FutureWarning: Downcasting behavior in `replace` is deprecated and will be removed in a future version. To retain the old behavior, explicitly call `result.infer_objects(copy=False)`. To opt-in to the future behavior, set `pd.set_option('future.no_silent_downcasting', True)`\n",
      "  athlete_m  = athlete_m .replace(\"Bronze\", 1)\n",
      "C:\\Users\\KIIT\\AppData\\Local\\Temp\\ipykernel_35732\\268472909.py:12: FutureWarning: Downcasting behavior in `replace` is deprecated and will be removed in a future version. To retain the old behavior, explicitly call `result.infer_objects(copy=False)`. To opt-in to the future behavior, set `pd.set_option('future.no_silent_downcasting', True)`\n",
      "  athlete_m  = athlete_m .replace(\"Bronze\", 1)\n"
     ]
    },
    {
     "name": "stdout",
     "output_type": "stream",
     "text": [
      "Training Data Score: 1.0\n",
      "Testing Data Score: 1.0\n",
      "[(np.float64(0.3791230116988442), 'Weight'), (np.float64(0.3424775209738298), 'Height'), (np.float64(0.27839946732732607), 'Age')]\n",
      "----------------------------------------------------\n",
      "Handball\n",
      "Training Data Score: 0.9633267845448592\n",
      "Testing Data Score: 0.6738703339882122\n",
      "[(np.float64(0.382009909430704), 'Weight'), (np.float64(0.3229943520936809), 'Height'), (np.float64(0.2949957384756153), 'Age')]\n",
      "----------------------------------------------------\n",
      "Weightlifting\n"
     ]
    },
    {
     "name": "stderr",
     "output_type": "stream",
     "text": [
      "C:\\Users\\KIIT\\AppData\\Local\\Temp\\ipykernel_35732\\268472909.py:12: FutureWarning: Downcasting behavior in `replace` is deprecated and will be removed in a future version. To retain the old behavior, explicitly call `result.infer_objects(copy=False)`. To opt-in to the future behavior, set `pd.set_option('future.no_silent_downcasting', True)`\n",
      "  athlete_m  = athlete_m .replace(\"Bronze\", 1)\n"
     ]
    },
    {
     "name": "stdout",
     "output_type": "stream",
     "text": [
      "Training Data Score: 0.9692307692307692\n",
      "Testing Data Score: 0.8028616852146264\n",
      "[(np.float64(0.43940211017692543), 'Weight'), (np.float64(0.3560745269722608), 'Height'), (np.float64(0.20452336285081377), 'Age')]\n",
      "----------------------------------------------------\n",
      "Wrestling\n"
     ]
    },
    {
     "name": "stderr",
     "output_type": "stream",
     "text": [
      "C:\\Users\\KIIT\\AppData\\Local\\Temp\\ipykernel_35732\\268472909.py:12: FutureWarning: Downcasting behavior in `replace` is deprecated and will be removed in a future version. To retain the old behavior, explicitly call `result.infer_objects(copy=False)`. To opt-in to the future behavior, set `pd.set_option('future.no_silent_downcasting', True)`\n",
      "  athlete_m  = athlete_m .replace(\"Bronze\", 1)\n"
     ]
    },
    {
     "name": "stdout",
     "output_type": "stream",
     "text": [
      "Training Data Score: 0.9404696886947024\n",
      "Testing Data Score: 0.764946764946765\n",
      "[(np.float64(0.39940624653970275), 'Weight'), (np.float64(0.33850231242579015), 'Height'), (np.float64(0.262091441034507), 'Age')]\n",
      "----------------------------------------------------\n",
      "Water Polo\n"
     ]
    },
    {
     "name": "stderr",
     "output_type": "stream",
     "text": [
      "C:\\Users\\KIIT\\AppData\\Local\\Temp\\ipykernel_35732\\268472909.py:12: FutureWarning: Downcasting behavior in `replace` is deprecated and will be removed in a future version. To retain the old behavior, explicitly call `result.infer_objects(copy=False)`. To opt-in to the future behavior, set `pd.set_option('future.no_silent_downcasting', True)`\n",
      "  athlete_m  = athlete_m .replace(\"Bronze\", 1)\n"
     ]
    },
    {
     "name": "stdout",
     "output_type": "stream",
     "text": [
      "Training Data Score: 0.9641362821279139\n",
      "Testing Data Score: 0.6881720430107527\n",
      "[(np.float64(0.3776643600583036), 'Weight'), (np.float64(0.33287930701035817), 'Height'), (np.float64(0.28945633293133827), 'Age')]\n",
      "----------------------------------------------------\n",
      "Hockey\n"
     ]
    },
    {
     "name": "stderr",
     "output_type": "stream",
     "text": [
      "C:\\Users\\KIIT\\AppData\\Local\\Temp\\ipykernel_35732\\268472909.py:12: FutureWarning: Downcasting behavior in `replace` is deprecated and will be removed in a future version. To retain the old behavior, explicitly call `result.infer_objects(copy=False)`. To opt-in to the future behavior, set `pd.set_option('future.no_silent_downcasting', True)`\n",
      "  athlete_m  = athlete_m .replace(\"Bronze\", 1)\n"
     ]
    },
    {
     "name": "stdout",
     "output_type": "stream",
     "text": [
      "Training Data Score: 0.9419953596287703\n",
      "Testing Data Score: 0.674547983310153\n",
      "[(np.float64(0.37097323329151055), 'Weight'), (np.float64(0.353114126110375), 'Height'), (np.float64(0.2759126405981144), 'Age')]\n",
      "----------------------------------------------------\n",
      "Rowing\n"
     ]
    },
    {
     "name": "stderr",
     "output_type": "stream",
     "text": [
      "C:\\Users\\KIIT\\AppData\\Local\\Temp\\ipykernel_35732\\268472909.py:12: FutureWarning: Downcasting behavior in `replace` is deprecated and will be removed in a future version. To retain the old behavior, explicitly call `result.infer_objects(copy=False)`. To opt-in to the future behavior, set `pd.set_option('future.no_silent_downcasting', True)`\n",
      "  athlete_m  = athlete_m .replace(\"Bronze\", 1)\n"
     ]
    },
    {
     "name": "stdout",
     "output_type": "stream",
     "text": [
      "Training Data Score: 0.9138823529411765\n",
      "Testing Data Score: 0.6866619618913197\n",
      "[(np.float64(0.3801038420929037), 'Weight'), (np.float64(0.35145742036022526), 'Height'), (np.float64(0.268438737546871), 'Age')]\n",
      "----------------------------------------------------\n",
      "Fencing\n"
     ]
    },
    {
     "name": "stderr",
     "output_type": "stream",
     "text": [
      "C:\\Users\\KIIT\\AppData\\Local\\Temp\\ipykernel_35732\\268472909.py:12: FutureWarning: Downcasting behavior in `replace` is deprecated and will be removed in a future version. To retain the old behavior, explicitly call `result.infer_objects(copy=False)`. To opt-in to the future behavior, set `pd.set_option('future.no_silent_downcasting', True)`\n",
      "  athlete_m  = athlete_m .replace(\"Bronze\", 1)\n"
     ]
    },
    {
     "name": "stdout",
     "output_type": "stream",
     "text": [
      "Training Data Score: 0.9146136618141097\n",
      "Testing Data Score: 0.799328295549958\n",
      "[(np.float64(0.37873399570956157), 'Weight'), (np.float64(0.31073576259628977), 'Height'), (np.float64(0.3105302416941488), 'Age')]\n",
      "----------------------------------------------------\n",
      "Equestrianism\n"
     ]
    },
    {
     "name": "stderr",
     "output_type": "stream",
     "text": [
      "C:\\Users\\KIIT\\AppData\\Local\\Temp\\ipykernel_35732\\268472909.py:12: FutureWarning: Downcasting behavior in `replace` is deprecated and will be removed in a future version. To retain the old behavior, explicitly call `result.infer_objects(copy=False)`. To opt-in to the future behavior, set `pd.set_option('future.no_silent_downcasting', True)`\n",
      "  athlete_m  = athlete_m .replace(\"Bronze\", 1)\n"
     ]
    },
    {
     "name": "stdout",
     "output_type": "stream",
     "text": [
      "Training Data Score: 0.9168627450980392\n",
      "Testing Data Score: 0.8376470588235294\n",
      "[(np.float64(0.3644323516105494), 'Age'), (np.float64(0.31999351128480547), 'Weight'), (np.float64(0.3155741371046453), 'Height')]\n",
      "----------------------------------------------------\n",
      "Shooting\n"
     ]
    },
    {
     "name": "stderr",
     "output_type": "stream",
     "text": [
      "C:\\Users\\KIIT\\AppData\\Local\\Temp\\ipykernel_35732\\268472909.py:12: FutureWarning: Downcasting behavior in `replace` is deprecated and will be removed in a future version. To retain the old behavior, explicitly call `result.infer_objects(copy=False)`. To opt-in to the future behavior, set `pd.set_option('future.no_silent_downcasting', True)`\n",
      "  athlete_m  = athlete_m .replace(\"Bronze\", 1)\n"
     ]
    },
    {
     "name": "stdout",
     "output_type": "stream",
     "text": [
      "Training Data Score: 0.9745055992375506\n",
      "Testing Data Score: 0.9027877055039314\n",
      "[(np.float64(0.3963863641620351), 'Weight'), (np.float64(0.3023998454822674), 'Age'), (np.float64(0.3012137903556975), 'Height')]\n",
      "----------------------------------------------------\n",
      "Boxing\n"
     ]
    },
    {
     "name": "stderr",
     "output_type": "stream",
     "text": [
      "C:\\Users\\KIIT\\AppData\\Local\\Temp\\ipykernel_35732\\268472909.py:12: FutureWarning: Downcasting behavior in `replace` is deprecated and will be removed in a future version. To retain the old behavior, explicitly call `result.infer_objects(copy=False)`. To opt-in to the future behavior, set `pd.set_option('future.no_silent_downcasting', True)`\n",
      "  athlete_m  = athlete_m .replace(\"Bronze\", 1)\n"
     ]
    },
    {
     "name": "stdout",
     "output_type": "stream",
     "text": [
      "Training Data Score: 0.9275092936802974\n",
      "Testing Data Score: 0.8159851301115242\n",
      "[(np.float64(0.41120512054428954), 'Height'), (np.float64(0.3570038221825299), 'Weight'), (np.float64(0.23179105727318067), 'Age')]\n",
      "----------------------------------------------------\n",
      "Taekwondo\n"
     ]
    },
    {
     "name": "stderr",
     "output_type": "stream",
     "text": [
      "C:\\Users\\KIIT\\AppData\\Local\\Temp\\ipykernel_35732\\268472909.py:12: FutureWarning: Downcasting behavior in `replace` is deprecated and will be removed in a future version. To retain the old behavior, explicitly call `result.infer_objects(copy=False)`. To opt-in to the future behavior, set `pd.set_option('future.no_silent_downcasting', True)`\n",
      "  athlete_m  = athlete_m .replace(\"Bronze\", 1)\n"
     ]
    },
    {
     "name": "stdout",
     "output_type": "stream",
     "text": [
      "Training Data Score: 0.9956331877729258\n",
      "Testing Data Score: 0.7012987012987013\n",
      "[(np.float64(0.39497332903644033), 'Height'), (np.float64(0.3079324817929392), 'Age'), (np.float64(0.2970941891706204), 'Weight')]\n",
      "----------------------------------------------------\n",
      "Cycling\n"
     ]
    },
    {
     "name": "stderr",
     "output_type": "stream",
     "text": [
      "C:\\Users\\KIIT\\AppData\\Local\\Temp\\ipykernel_35732\\268472909.py:12: FutureWarning: Downcasting behavior in `replace` is deprecated and will be removed in a future version. To retain the old behavior, explicitly call `result.infer_objects(copy=False)`. To opt-in to the future behavior, set `pd.set_option('future.no_silent_downcasting', True)`\n",
      "  athlete_m  = athlete_m .replace(\"Bronze\", 1)\n"
     ]
    },
    {
     "name": "stdout",
     "output_type": "stream",
     "text": [
      "Training Data Score: 0.9457219805262067\n",
      "Testing Data Score: 0.8621118012422361\n",
      "[(np.float64(0.37951904955314036), 'Weight'), (np.float64(0.3224158144066729), 'Height'), (np.float64(0.2980651360401867), 'Age')]\n",
      "----------------------------------------------------\n",
      "Diving\n"
     ]
    },
    {
     "name": "stderr",
     "output_type": "stream",
     "text": [
      "C:\\Users\\KIIT\\AppData\\Local\\Temp\\ipykernel_35732\\268472909.py:12: FutureWarning: Downcasting behavior in `replace` is deprecated and will be removed in a future version. To retain the old behavior, explicitly call `result.infer_objects(copy=False)`. To opt-in to the future behavior, set `pd.set_option('future.no_silent_downcasting', True)`\n",
      "  athlete_m  = athlete_m .replace(\"Bronze\", 1)\n"
     ]
    },
    {
     "name": "stdout",
     "output_type": "stream",
     "text": [
      "Training Data Score: 0.948849104859335\n",
      "Testing Data Score: 0.8314176245210728\n",
      "[(np.float64(0.34776875432498305), 'Weight'), (np.float64(0.3291339804278833), 'Height'), (np.float64(0.3230972652471336), 'Age')]\n",
      "----------------------------------------------------\n",
      "Canoeing\n"
     ]
    },
    {
     "name": "stderr",
     "output_type": "stream",
     "text": [
      "C:\\Users\\KIIT\\AppData\\Local\\Temp\\ipykernel_35732\\268472909.py:12: FutureWarning: Downcasting behavior in `replace` is deprecated and will be removed in a future version. To retain the old behavior, explicitly call `result.infer_objects(copy=False)`. To opt-in to the future behavior, set `pd.set_option('future.no_silent_downcasting', True)`\n",
      "  athlete_m  = athlete_m .replace(\"Bronze\", 1)\n"
     ]
    },
    {
     "name": "stdout",
     "output_type": "stream",
     "text": [
      "Training Data Score: 0.9344159900062461\n",
      "Testing Data Score: 0.7808988764044944\n",
      "[(np.float64(0.3580766789785255), 'Weight'), (np.float64(0.35437641247979274), 'Height'), (np.float64(0.28754690854168174), 'Age')]\n",
      "----------------------------------------------------\n",
      "Tennis\n"
     ]
    },
    {
     "name": "stderr",
     "output_type": "stream",
     "text": [
      "C:\\Users\\KIIT\\AppData\\Local\\Temp\\ipykernel_35732\\268472909.py:12: FutureWarning: Downcasting behavior in `replace` is deprecated and will be removed in a future version. To retain the old behavior, explicitly call `result.infer_objects(copy=False)`. To opt-in to the future behavior, set `pd.set_option('future.no_silent_downcasting', True)`\n",
      "  athlete_m  = athlete_m .replace(\"Bronze\", 1)\n"
     ]
    },
    {
     "name": "stdout",
     "output_type": "stream",
     "text": [
      "Training Data Score: 0.9591315453384419\n",
      "Testing Data Score: 0.8735632183908046\n",
      "[(np.float64(0.35065373518169657), 'Weight'), (np.float64(0.32723501375098857), 'Age'), (np.float64(0.32211125106731486), 'Height')]\n",
      "----------------------------------------------------\n",
      "Modern Pentathlon\n"
     ]
    },
    {
     "name": "stderr",
     "output_type": "stream",
     "text": [
      "C:\\Users\\KIIT\\AppData\\Local\\Temp\\ipykernel_35732\\268472909.py:12: FutureWarning: Downcasting behavior in `replace` is deprecated and will be removed in a future version. To retain the old behavior, explicitly call `result.infer_objects(copy=False)`. To opt-in to the future behavior, set `pd.set_option('future.no_silent_downcasting', True)`\n",
      "  athlete_m  = athlete_m .replace(\"Bronze\", 1)\n"
     ]
    },
    {
     "name": "stdout",
     "output_type": "stream",
     "text": [
      "Training Data Score: 0.9269183922046285\n",
      "Testing Data Score: 0.8759124087591241\n",
      "[(np.float64(0.36003782937486534), 'Weight'), (np.float64(0.32814309993433294), 'Height'), (np.float64(0.3118190706908017), 'Age')]\n",
      "----------------------------------------------------\n",
      "Golf\n"
     ]
    },
    {
     "name": "stderr",
     "output_type": "stream",
     "text": [
      "C:\\Users\\KIIT\\AppData\\Local\\Temp\\ipykernel_35732\\268472909.py:12: FutureWarning: Downcasting behavior in `replace` is deprecated and will be removed in a future version. To retain the old behavior, explicitly call `result.infer_objects(copy=False)`. To opt-in to the future behavior, set `pd.set_option('future.no_silent_downcasting', True)`\n",
      "  athlete_m  = athlete_m .replace(\"Bronze\", 1)\n"
     ]
    },
    {
     "name": "stdout",
     "output_type": "stream",
     "text": [
      "Training Data Score: 1.0\n",
      "Testing Data Score: 0.9285714285714286\n",
      "[(np.float64(0.48861148163480705), 'Height'), (np.float64(0.2761504447751106), 'Weight'), (np.float64(0.23523807359008236), 'Age')]\n",
      "----------------------------------------------------\n",
      "Softball\n",
      "An exception occurred\n",
      "----------------------------------------------------\n",
      "Archery\n"
     ]
    },
    {
     "name": "stderr",
     "output_type": "stream",
     "text": [
      "C:\\Users\\KIIT\\AppData\\Local\\Temp\\ipykernel_35732\\268472909.py:12: FutureWarning: Downcasting behavior in `replace` is deprecated and will be removed in a future version. To retain the old behavior, explicitly call `result.infer_objects(copy=False)`. To opt-in to the future behavior, set `pd.set_option('future.no_silent_downcasting', True)`\n",
      "  athlete_m  = athlete_m .replace(\"Bronze\", 1)\n"
     ]
    },
    {
     "name": "stdout",
     "output_type": "stream",
     "text": [
      "Training Data Score: 0.94\n",
      "Testing Data Score: 0.852\n",
      "[(np.float64(0.39670288787271074), 'Weight'), (np.float64(0.32888193344389355), 'Age'), (np.float64(0.2744151786833956), 'Height')]\n",
      "----------------------------------------------------\n",
      "Volleyball\n"
     ]
    },
    {
     "name": "stderr",
     "output_type": "stream",
     "text": [
      "C:\\Users\\KIIT\\AppData\\Local\\Temp\\ipykernel_35732\\268472909.py:12: FutureWarning: Downcasting behavior in `replace` is deprecated and will be removed in a future version. To retain the old behavior, explicitly call `result.infer_objects(copy=False)`. To opt-in to the future behavior, set `pd.set_option('future.no_silent_downcasting', True)`\n",
      "  athlete_m  = athlete_m .replace(\"Bronze\", 1)\n"
     ]
    },
    {
     "name": "stdout",
     "output_type": "stream",
     "text": [
      "Training Data Score: 0.9595808383233533\n",
      "Testing Data Score: 0.6210762331838565\n",
      "[(np.float64(0.37058993647066735), 'Weight'), (np.float64(0.36163267116497716), 'Height'), (np.float64(0.26777739236435555), 'Age')]\n",
      "----------------------------------------------------\n",
      "Synchronized Swimming\n",
      "An exception occurred\n",
      "----------------------------------------------------\n",
      "Table Tennis\n"
     ]
    },
    {
     "name": "stderr",
     "output_type": "stream",
     "text": [
      "C:\\Users\\KIIT\\AppData\\Local\\Temp\\ipykernel_35732\\268472909.py:12: FutureWarning: Downcasting behavior in `replace` is deprecated and will be removed in a future version. To retain the old behavior, explicitly call `result.infer_objects(copy=False)`. To opt-in to the future behavior, set `pd.set_option('future.no_silent_downcasting', True)`\n",
      "  athlete_m  = athlete_m .replace(\"Bronze\", 1)\n"
     ]
    },
    {
     "name": "stdout",
     "output_type": "stream",
     "text": [
      "Training Data Score: 0.9553956834532374\n",
      "Testing Data Score: 0.8836206896551724\n",
      "[(np.float64(0.34871176558072975), 'Age'), (np.float64(0.34695829075003565), 'Weight'), (np.float64(0.30432994366923455), 'Height')]\n",
      "----------------------------------------------------\n",
      "Baseball\n"
     ]
    },
    {
     "name": "stderr",
     "output_type": "stream",
     "text": [
      "C:\\Users\\KIIT\\AppData\\Local\\Temp\\ipykernel_35732\\268472909.py:12: FutureWarning: Downcasting behavior in `replace` is deprecated and will be removed in a future version. To retain the old behavior, explicitly call `result.infer_objects(copy=False)`. To opt-in to the future behavior, set `pd.set_option('future.no_silent_downcasting', True)`\n",
      "  athlete_m  = athlete_m .replace(\"Bronze\", 1)\n"
     ]
    },
    {
     "name": "stdout",
     "output_type": "stream",
     "text": [
      "Training Data Score: 0.9716088328075709\n",
      "Testing Data Score: 0.5471698113207547\n",
      "[(np.float64(0.3995799300232352), 'Weight'), (np.float64(0.33963234635892464), 'Height'), (np.float64(0.2607877236178401), 'Age')]\n",
      "----------------------------------------------------\n",
      "Rhythmic Gymnastics\n",
      "An exception occurred\n",
      "----------------------------------------------------\n",
      "Rugby Sevens\n"
     ]
    },
    {
     "name": "stderr",
     "output_type": "stream",
     "text": [
      "C:\\Users\\KIIT\\AppData\\Local\\Temp\\ipykernel_35732\\268472909.py:12: FutureWarning: Downcasting behavior in `replace` is deprecated and will be removed in a future version. To retain the old behavior, explicitly call `result.infer_objects(copy=False)`. To opt-in to the future behavior, set `pd.set_option('future.no_silent_downcasting', True)`\n",
      "  athlete_m  = athlete_m .replace(\"Bronze\", 1)\n"
     ]
    },
    {
     "name": "stdout",
     "output_type": "stream",
     "text": [
      "Training Data Score: 1.0\n",
      "Testing Data Score: 0.6842105263157895\n",
      "[(np.float64(0.3784179033314947), 'Height'), (np.float64(0.36689647212124676), 'Weight'), (np.float64(0.2546856245472586), 'Age')]\n",
      "----------------------------------------------------\n",
      "Trampolining\n"
     ]
    },
    {
     "name": "stderr",
     "output_type": "stream",
     "text": [
      "C:\\Users\\KIIT\\AppData\\Local\\Temp\\ipykernel_35732\\268472909.py:12: FutureWarning: Downcasting behavior in `replace` is deprecated and will be removed in a future version. To retain the old behavior, explicitly call `result.infer_objects(copy=False)`. To opt-in to the future behavior, set `pd.set_option('future.no_silent_downcasting', True)`\n",
      "  athlete_m  = athlete_m .replace(\"Bronze\", 1)\n"
     ]
    },
    {
     "name": "stdout",
     "output_type": "stream",
     "text": [
      "Training Data Score: 1.0\n",
      "Testing Data Score: 0.7894736842105263\n",
      "[(np.float64(0.43894813029002117), 'Weight'), (np.float64(0.295139879538443), 'Age'), (np.float64(0.2659119901715359), 'Height')]\n",
      "----------------------------------------------------\n",
      "Beach Volleyball\n"
     ]
    },
    {
     "name": "stderr",
     "output_type": "stream",
     "text": [
      "C:\\Users\\KIIT\\AppData\\Local\\Temp\\ipykernel_35732\\268472909.py:12: FutureWarning: Downcasting behavior in `replace` is deprecated and will be removed in a future version. To retain the old behavior, explicitly call `result.infer_objects(copy=False)`. To opt-in to the future behavior, set `pd.set_option('future.no_silent_downcasting', True)`\n",
      "  athlete_m  = athlete_m .replace(\"Bronze\", 1)\n"
     ]
    },
    {
     "name": "stdout",
     "output_type": "stream",
     "text": [
      "Training Data Score: 0.9950980392156863\n",
      "Testing Data Score: 0.9130434782608695\n",
      "[(np.float64(0.34430618831746357), 'Height'), (np.float64(0.3288333561707646), 'Weight'), (np.float64(0.32686045551177184), 'Age')]\n",
      "----------------------------------------------------\n",
      "Triathlon\n"
     ]
    },
    {
     "name": "stderr",
     "output_type": "stream",
     "text": [
      "C:\\Users\\KIIT\\AppData\\Local\\Temp\\ipykernel_35732\\268472909.py:12: FutureWarning: Downcasting behavior in `replace` is deprecated and will be removed in a future version. To retain the old behavior, explicitly call `result.infer_objects(copy=False)`. To opt-in to the future behavior, set `pd.set_option('future.no_silent_downcasting', True)`\n",
      "  athlete_m  = athlete_m .replace(\"Bronze\", 1)\n"
     ]
    },
    {
     "name": "stdout",
     "output_type": "stream",
     "text": [
      "Training Data Score: 1.0\n",
      "Testing Data Score: 0.9104477611940298\n",
      "[(np.float64(0.375174388432738), 'Height'), (np.float64(0.34003666838682456), 'Age'), (np.float64(0.28478894318043746), 'Weight')]\n",
      "----------------------------------------------------\n",
      "Rugby\n"
     ]
    },
    {
     "name": "stderr",
     "output_type": "stream",
     "text": [
      "C:\\Users\\KIIT\\AppData\\Local\\Temp\\ipykernel_35732\\268472909.py:11: FutureWarning: Downcasting behavior in `replace` is deprecated and will be removed in a future version. To retain the old behavior, explicitly call `result.infer_objects(copy=False)`. To opt-in to the future behavior, set `pd.set_option('future.no_silent_downcasting', True)`\n",
      "  athlete_m  = athlete_m .replace(\"Silver\", 1)\n",
      "C:\\Users\\KIIT\\AppData\\Local\\Temp\\ipykernel_35732\\268472909.py:10: FutureWarning: Downcasting behavior in `replace` is deprecated and will be removed in a future version. To retain the old behavior, explicitly call `result.infer_objects(copy=False)`. To opt-in to the future behavior, set `pd.set_option('future.no_silent_downcasting', True)`\n",
      "  athlete_m  = athlete_m .replace(\"Gold\", 1)\n"
     ]
    },
    {
     "name": "stdout",
     "output_type": "stream",
     "text": [
      "Training Data Score: 1.0\n",
      "Testing Data Score: 1.0\n",
      "[(np.float64(0.0), 'Weight'), (np.float64(0.0), 'Height'), (np.float64(0.0), 'Age')]\n",
      "----------------------------------------------------\n",
      "Lacrosse\n",
      "Training Data Score: 1.0\n",
      "Testing Data Score: 1.0\n",
      "[(np.float64(0.0), 'Weight'), (np.float64(0.0), 'Height'), (np.float64(0.0), 'Age')]\n",
      "----------------------------------------------------\n",
      "Polo\n",
      "An exception occurred\n",
      "----------------------------------------------------\n",
      "Cricket\n",
      "An exception occurred\n",
      "----------------------------------------------------\n",
      "Ice Hockey\n"
     ]
    },
    {
     "name": "stderr",
     "output_type": "stream",
     "text": [
      "C:\\Users\\KIIT\\AppData\\Local\\Temp\\ipykernel_35732\\268472909.py:11: FutureWarning: Downcasting behavior in `replace` is deprecated and will be removed in a future version. To retain the old behavior, explicitly call `result.infer_objects(copy=False)`. To opt-in to the future behavior, set `pd.set_option('future.no_silent_downcasting', True)`\n",
      "  athlete_m  = athlete_m .replace(\"Silver\", 1)\n",
      "C:\\Users\\KIIT\\AppData\\Local\\Temp\\ipykernel_35732\\268472909.py:13: FutureWarning: Downcasting object dtype arrays on .fillna, .ffill, .bfill is deprecated and will change in a future version. Call result.infer_objects(copy=False) instead. To opt-in to the future behavior, set `pd.set_option('future.no_silent_downcasting', True)`\n",
      "  athlete_m [\"Medal\"] = athlete_m [\"Medal\"].fillna(0)\n",
      "C:\\Users\\KIIT\\AppData\\Local\\Temp\\ipykernel_35732\\268472909.py:10: FutureWarning: Downcasting behavior in `replace` is deprecated and will be removed in a future version. To retain the old behavior, explicitly call `result.infer_objects(copy=False)`. To opt-in to the future behavior, set `pd.set_option('future.no_silent_downcasting', True)`\n",
      "  athlete_m  = athlete_m .replace(\"Gold\", 1)\n"
     ]
    },
    {
     "name": "stdout",
     "output_type": "stream",
     "text": [
      "Training Data Score: 1.0\n",
      "Testing Data Score: 1.0\n",
      "[(np.float64(0.0), 'Weight'), (np.float64(0.0), 'Height'), (np.float64(0.0), 'Age')]\n",
      "----------------------------------------------------\n",
      "Racquets\n",
      "An exception occurred\n",
      "----------------------------------------------------\n",
      "Motorboating\n",
      "An exception occurred\n",
      "----------------------------------------------------\n",
      "Croquet\n",
      "An exception occurred\n",
      "----------------------------------------------------\n",
      "Figure Skating\n",
      "An exception occurred\n",
      "----------------------------------------------------\n",
      "Jeu De Paume\n",
      "An exception occurred\n",
      "----------------------------------------------------\n",
      "Roque\n",
      "An exception occurred\n",
      "----------------------------------------------------\n",
      "Basque Pelota\n",
      "An exception occurred\n",
      "----------------------------------------------------\n",
      "Alpinism\n",
      "An exception occurred\n",
      "----------------------------------------------------\n",
      "Aeronautics\n",
      "An exception occurred\n",
      "----------------------------------------------------\n"
     ]
    }
   ],
   "source": [
    "# For loop to train the Random Forest model and get the testing score for male athletes in every Summer Olympic Sport\n",
    "for sport in summer_sports:\n",
    "    try:\n",
    "        athlete_m  = summer_data[(summer_data[\"Sport\"] == f'{sport}') & (summer_data[\"Sex\"] == \"M\")]\n",
    "        athlete_m  = athlete_m [[\"Age\", \"Height\", \"Weight\", \"Medal\"]]\n",
    "        athlete_m  = athlete_m .dropna(subset=['Height', 'Weight']).reset_index(drop = True)\n",
    "        \n",
    "        # One-hot encoding                \n",
    "\n",
    "        athlete_m  = athlete_m .replace(\"Gold\", 1)\n",
    "        athlete_m  = athlete_m .replace(\"Silver\", 1)\n",
    "        athlete_m  = athlete_m .replace(\"Bronze\", 1)\n",
    "        athlete_m [\"Medal\"] = athlete_m [\"Medal\"].fillna(0)\n",
    "        athlete_m  = athlete_m .dropna()\n",
    "        athlete_m [\"Medal\"].unique()\n",
    "\n",
    "        print(sport)\n",
    "        \n",
    "        # Assign X (data) and y (target)        \n",
    "\n",
    "        target = athlete_m [\"Medal\"]\n",
    "        target_names = [\"Medals\", \"None\"]\n",
    "        data = athlete_m .drop(\"Medal\", axis=1)\n",
    "        feature_names = data.columns\n",
    "        data.head()\n",
    "        \n",
    "        # Split our data into training and testing\n",
    "\n",
    "        X_train, X_test, y_train, y_test = train_test_split(data, target, random_state=42)\n",
    "        clf = tree.DecisionTreeClassifier()\n",
    "        clf = clf.fit(X_train, y_train)\n",
    "        clf.score(X_test, y_test)\n",
    "        \n",
    "        # Create a random forest classifier\n",
    "\n",
    "        rf = RandomForestClassifier(n_estimators=200)\n",
    "        rf = rf.fit(X_train, y_train)\n",
    "        print(\"Training Data Score:\", rf.score(X_train, y_train)) \n",
    "        print(\"Testing Data Score:\", rf.score(X_test, y_test))\n",
    "        \n",
    "        # Sort the features by their importance\n",
    "\n",
    "        print(sorted(zip(rf.feature_importances_, feature_names), reverse=True))\n",
    "        print(\"----------------------------------------------------\")\n",
    "    except:\n",
    "        print(\"An exception occurred\")\n",
    "        print(\"----------------------------------------------------\")"
   ]
  },
  {
   "cell_type": "code",
   "execution_count": 8,
   "metadata": {},
   "outputs": [
    {
     "name": "stderr",
     "output_type": "stream",
     "text": [
      "C:\\Users\\KIIT\\AppData\\Local\\Temp\\ipykernel_35732\\420605320.py:12: FutureWarning: Downcasting behavior in `replace` is deprecated and will be removed in a future version. To retain the old behavior, explicitly call `result.infer_objects(copy=False)`. To opt-in to the future behavior, set `pd.set_option('future.no_silent_downcasting', True)`\n",
      "  athlete_f  = athlete_f .replace(\"Bronze\", 1)\n"
     ]
    },
    {
     "name": "stdout",
     "output_type": "stream",
     "text": [
      "Basketball\n",
      "Training Data Score: 0.9723577235772358\n",
      "Testing Data Score: 0.6883116883116883\n",
      "[(np.float64(0.41749708406619673), 'Weight'), (np.float64(0.34896675972604113), 'Height'), (np.float64(0.2335361562077622), 'Age')]\n",
      "----------------------------------------------------\n",
      "Judo\n"
     ]
    },
    {
     "name": "stderr",
     "output_type": "stream",
     "text": [
      "C:\\Users\\KIIT\\AppData\\Local\\Temp\\ipykernel_35732\\420605320.py:12: FutureWarning: Downcasting behavior in `replace` is deprecated and will be removed in a future version. To retain the old behavior, explicitly call `result.infer_objects(copy=False)`. To opt-in to the future behavior, set `pd.set_option('future.no_silent_downcasting', True)`\n",
      "  athlete_f  = athlete_f .replace(\"Bronze\", 1)\n"
     ]
    },
    {
     "name": "stdout",
     "output_type": "stream",
     "text": [
      "Training Data Score: 0.9588963963963963\n",
      "Testing Data Score: 0.8246205733558178\n",
      "[(np.float64(0.39483871427843764), 'Weight'), (np.float64(0.3773512448994459), 'Height'), (np.float64(0.2278100408221166), 'Age')]\n",
      "----------------------------------------------------\n",
      "Football\n"
     ]
    },
    {
     "name": "stderr",
     "output_type": "stream",
     "text": [
      "C:\\Users\\KIIT\\AppData\\Local\\Temp\\ipykernel_35732\\420605320.py:12: FutureWarning: Downcasting behavior in `replace` is deprecated and will be removed in a future version. To retain the old behavior, explicitly call `result.infer_objects(copy=False)`. To opt-in to the future behavior, set `pd.set_option('future.no_silent_downcasting', True)`\n",
      "  athlete_f  = athlete_f .replace(\"Bronze\", 1)\n"
     ]
    },
    {
     "name": "stdout",
     "output_type": "stream",
     "text": [
      "Training Data Score: 0.9175019275250579\n",
      "Testing Data Score: 0.7098265895953757\n",
      "[(np.float64(0.3899505247942885), 'Height'), (np.float64(0.3795939903104805), 'Weight'), (np.float64(0.23045548489523088), 'Age')]\n",
      "----------------------------------------------------\n",
      "Tug-Of-War\n"
     ]
    },
    {
     "name": "stderr",
     "output_type": "stream",
     "text": [
      "C:\\Users\\KIIT\\AppData\\Local\\Temp\\ipykernel_35732\\420605320.py:12: FutureWarning: Downcasting behavior in `replace` is deprecated and will be removed in a future version. To retain the old behavior, explicitly call `result.infer_objects(copy=False)`. To opt-in to the future behavior, set `pd.set_option('future.no_silent_downcasting', True)`\n",
      "  athlete_f  = athlete_f .replace(\"Bronze\", 1)\n"
     ]
    },
    {
     "name": "stdout",
     "output_type": "stream",
     "text": [
      "Training Data Score: 1.0\n",
      "Testing Data Score: 0.4\n",
      "[(np.float64(0.44517914023806887), 'Weight'), (np.float64(0.2965633152066188), 'Height'), (np.float64(0.25825754455531236), 'Age')]\n",
      "----------------------------------------------------\n",
      "Athletics\n"
     ]
    },
    {
     "name": "stderr",
     "output_type": "stream",
     "text": [
      "C:\\Users\\KIIT\\AppData\\Local\\Temp\\ipykernel_35732\\420605320.py:12: FutureWarning: Downcasting behavior in `replace` is deprecated and will be removed in a future version. To retain the old behavior, explicitly call `result.infer_objects(copy=False)`. To opt-in to the future behavior, set `pd.set_option('future.no_silent_downcasting', True)`\n",
      "  athlete_f  = athlete_f .replace(\"Bronze\", 1)\n"
     ]
    },
    {
     "name": "stdout",
     "output_type": "stream",
     "text": [
      "Training Data Score: 0.9291903010658854\n",
      "Testing Data Score: 0.8591997008227374\n",
      "[(np.float64(0.42854640583160863), 'Weight'), (np.float64(0.33571884839947846), 'Height'), (np.float64(0.23573474576891293), 'Age')]\n",
      "----------------------------------------------------\n",
      "Swimming\n"
     ]
    },
    {
     "name": "stderr",
     "output_type": "stream",
     "text": [
      "C:\\Users\\KIIT\\AppData\\Local\\Temp\\ipykernel_35732\\420605320.py:12: FutureWarning: Downcasting behavior in `replace` is deprecated and will be removed in a future version. To retain the old behavior, explicitly call `result.infer_objects(copy=False)`. To opt-in to the future behavior, set `pd.set_option('future.no_silent_downcasting', True)`\n",
      "  athlete_f  = athlete_f .replace(\"Bronze\", 1)\n"
     ]
    },
    {
     "name": "stdout",
     "output_type": "stream",
     "text": [
      "Training Data Score: 0.9191214470284238\n",
      "Testing Data Score: 0.8620689655172413\n",
      "[(np.float64(0.4070409284687676), 'Weight'), (np.float64(0.359129130650188), 'Height'), (np.float64(0.23382994088104445), 'Age')]\n",
      "----------------------------------------------------\n",
      "Badminton\n"
     ]
    },
    {
     "name": "stderr",
     "output_type": "stream",
     "text": [
      "C:\\Users\\KIIT\\AppData\\Local\\Temp\\ipykernel_35732\\420605320.py:12: FutureWarning: Downcasting behavior in `replace` is deprecated and will be removed in a future version. To retain the old behavior, explicitly call `result.infer_objects(copy=False)`. To opt-in to the future behavior, set `pd.set_option('future.no_silent_downcasting', True)`\n",
      "  athlete_f  = athlete_f .replace(\"Bronze\", 1)\n"
     ]
    },
    {
     "name": "stdout",
     "output_type": "stream",
     "text": [
      "Training Data Score: 0.9771863117870723\n",
      "Testing Data Score: 0.8636363636363636\n",
      "[(np.float64(0.3854195719711056), 'Height'), (np.float64(0.33703026827125987), 'Weight'), (np.float64(0.2775501597576345), 'Age')]\n",
      "----------------------------------------------------\n",
      "Sailing\n"
     ]
    },
    {
     "name": "stderr",
     "output_type": "stream",
     "text": [
      "C:\\Users\\KIIT\\AppData\\Local\\Temp\\ipykernel_35732\\420605320.py:12: FutureWarning: Downcasting behavior in `replace` is deprecated and will be removed in a future version. To retain the old behavior, explicitly call `result.infer_objects(copy=False)`. To opt-in to the future behavior, set `pd.set_option('future.no_silent_downcasting', True)`\n",
      "  athlete_f  = athlete_f .replace(\"Bronze\", 1)\n"
     ]
    },
    {
     "name": "stdout",
     "output_type": "stream",
     "text": [
      "Training Data Score: 0.9762859051436206\n",
      "Testing Data Score: 0.8286573146292585\n",
      "[(np.float64(0.37475697618971726), 'Weight'), (np.float64(0.3359467386276194), 'Age'), (np.float64(0.28929628518266337), 'Height')]\n",
      "----------------------------------------------------\n",
      "Gymnastics\n"
     ]
    },
    {
     "name": "stderr",
     "output_type": "stream",
     "text": [
      "C:\\Users\\KIIT\\AppData\\Local\\Temp\\ipykernel_35732\\420605320.py:12: FutureWarning: Downcasting behavior in `replace` is deprecated and will be removed in a future version. To retain the old behavior, explicitly call `result.infer_objects(copy=False)`. To opt-in to the future behavior, set `pd.set_option('future.no_silent_downcasting', True)`\n",
      "  athlete_f  = athlete_f .replace(\"Bronze\", 1)\n"
     ]
    },
    {
     "name": "stdout",
     "output_type": "stream",
     "text": [
      "Training Data Score: 0.9458987783595113\n",
      "Testing Data Score: 0.9338070306656694\n",
      "[(np.float64(0.36327455406394954), 'Age'), (np.float64(0.3314925791867979), 'Height'), (np.float64(0.3052328667492526), 'Weight')]\n",
      "----------------------------------------------------\n",
      "Art Competitions\n"
     ]
    },
    {
     "name": "stderr",
     "output_type": "stream",
     "text": [
      "C:\\Users\\KIIT\\AppData\\Local\\Temp\\ipykernel_35732\\420605320.py:12: FutureWarning: Downcasting behavior in `replace` is deprecated and will be removed in a future version. To retain the old behavior, explicitly call `result.infer_objects(copy=False)`. To opt-in to the future behavior, set `pd.set_option('future.no_silent_downcasting', True)`\n",
      "  athlete_f  = athlete_f .replace(\"Bronze\", 1)\n"
     ]
    },
    {
     "name": "stdout",
     "output_type": "stream",
     "text": [
      "Training Data Score: 1.0\n",
      "Testing Data Score: 1.0\n",
      "[(np.float64(0.39332240667112944), 'Height'), (np.float64(0.35352832944918866), 'Weight'), (np.float64(0.25314926387968184), 'Age')]\n",
      "----------------------------------------------------\n",
      "Handball\n"
     ]
    },
    {
     "name": "stderr",
     "output_type": "stream",
     "text": [
      "C:\\Users\\KIIT\\AppData\\Local\\Temp\\ipykernel_35732\\420605320.py:12: FutureWarning: Downcasting behavior in `replace` is deprecated and will be removed in a future version. To retain the old behavior, explicitly call `result.infer_objects(copy=False)`. To opt-in to the future behavior, set `pd.set_option('future.no_silent_downcasting', True)`\n",
      "  athlete_f  = athlete_f .replace(\"Bronze\", 1)\n"
     ]
    },
    {
     "name": "stdout",
     "output_type": "stream",
     "text": [
      "Training Data Score: 0.9633267845448592\n",
      "Testing Data Score: 0.6777996070726916\n",
      "[(np.float64(0.3817781439139735), 'Weight'), (np.float64(0.33437659150282123), 'Height'), (np.float64(0.28384526458320536), 'Age')]\n",
      "----------------------------------------------------\n",
      "Weightlifting\n"
     ]
    },
    {
     "name": "stderr",
     "output_type": "stream",
     "text": [
      "C:\\Users\\KIIT\\AppData\\Local\\Temp\\ipykernel_35732\\420605320.py:12: FutureWarning: Downcasting behavior in `replace` is deprecated and will be removed in a future version. To retain the old behavior, explicitly call `result.infer_objects(copy=False)`. To opt-in to the future behavior, set `pd.set_option('future.no_silent_downcasting', True)`\n",
      "  athlete_f  = athlete_f .replace(\"Bronze\", 1)\n"
     ]
    },
    {
     "name": "stdout",
     "output_type": "stream",
     "text": [
      "Training Data Score: 0.9692307692307692\n",
      "Testing Data Score: 0.8044515103338633\n",
      "[(np.float64(0.4354583105403862), 'Weight'), (np.float64(0.3614854393346148), 'Height'), (np.float64(0.20305625012499903), 'Age')]\n",
      "----------------------------------------------------\n",
      "Wrestling\n"
     ]
    },
    {
     "name": "stderr",
     "output_type": "stream",
     "text": [
      "C:\\Users\\KIIT\\AppData\\Local\\Temp\\ipykernel_35732\\420605320.py:12: FutureWarning: Downcasting behavior in `replace` is deprecated and will be removed in a future version. To retain the old behavior, explicitly call `result.infer_objects(copy=False)`. To opt-in to the future behavior, set `pd.set_option('future.no_silent_downcasting', True)`\n",
      "  athlete_f  = athlete_f .replace(\"Bronze\", 1)\n"
     ]
    },
    {
     "name": "stdout",
     "output_type": "stream",
     "text": [
      "Training Data Score: 0.9404696886947024\n",
      "Testing Data Score: 0.7682227682227682\n",
      "[(np.float64(0.40552829163157594), 'Weight'), (np.float64(0.3454687385517077), 'Height'), (np.float64(0.24900296981671632), 'Age')]\n",
      "----------------------------------------------------\n",
      "Water Polo\n"
     ]
    },
    {
     "name": "stderr",
     "output_type": "stream",
     "text": [
      "C:\\Users\\KIIT\\AppData\\Local\\Temp\\ipykernel_35732\\420605320.py:12: FutureWarning: Downcasting behavior in `replace` is deprecated and will be removed in a future version. To retain the old behavior, explicitly call `result.infer_objects(copy=False)`. To opt-in to the future behavior, set `pd.set_option('future.no_silent_downcasting', True)`\n",
      "  athlete_f  = athlete_f .replace(\"Bronze\", 1)\n"
     ]
    },
    {
     "name": "stdout",
     "output_type": "stream",
     "text": [
      "Training Data Score: 0.9641362821279139\n",
      "Testing Data Score: 0.6899641577060932\n",
      "[(np.float64(0.37879180936843976), 'Weight'), (np.float64(0.3383271964781815), 'Height'), (np.float64(0.2828809941533788), 'Age')]\n",
      "----------------------------------------------------\n",
      "Hockey\n"
     ]
    },
    {
     "name": "stderr",
     "output_type": "stream",
     "text": [
      "C:\\Users\\KIIT\\AppData\\Local\\Temp\\ipykernel_35732\\420605320.py:12: FutureWarning: Downcasting behavior in `replace` is deprecated and will be removed in a future version. To retain the old behavior, explicitly call `result.infer_objects(copy=False)`. To opt-in to the future behavior, set `pd.set_option('future.no_silent_downcasting', True)`\n",
      "  athlete_f  = athlete_f .replace(\"Bronze\", 1)\n"
     ]
    },
    {
     "name": "stdout",
     "output_type": "stream",
     "text": [
      "Training Data Score: 0.9419953596287703\n",
      "Testing Data Score: 0.6815020862308763\n",
      "[(np.float64(0.37710103211970675), 'Weight'), (np.float64(0.34346704245110765), 'Height'), (np.float64(0.2794319254291856), 'Age')]\n",
      "----------------------------------------------------\n",
      "Rowing\n"
     ]
    },
    {
     "name": "stderr",
     "output_type": "stream",
     "text": [
      "C:\\Users\\KIIT\\AppData\\Local\\Temp\\ipykernel_35732\\420605320.py:12: FutureWarning: Downcasting behavior in `replace` is deprecated and will be removed in a future version. To retain the old behavior, explicitly call `result.infer_objects(copy=False)`. To opt-in to the future behavior, set `pd.set_option('future.no_silent_downcasting', True)`\n",
      "  athlete_f  = athlete_f .replace(\"Bronze\", 1)\n"
     ]
    },
    {
     "name": "stdout",
     "output_type": "stream",
     "text": [
      "Training Data Score: 0.9138823529411765\n",
      "Testing Data Score: 0.6937191249117854\n",
      "[(np.float64(0.37729246307748393), 'Weight'), (np.float64(0.34716519099149196), 'Height'), (np.float64(0.27554234593102417), 'Age')]\n",
      "----------------------------------------------------\n",
      "Fencing\n"
     ]
    },
    {
     "name": "stderr",
     "output_type": "stream",
     "text": [
      "C:\\Users\\KIIT\\AppData\\Local\\Temp\\ipykernel_35732\\420605320.py:12: FutureWarning: Downcasting behavior in `replace` is deprecated and will be removed in a future version. To retain the old behavior, explicitly call `result.infer_objects(copy=False)`. To opt-in to the future behavior, set `pd.set_option('future.no_silent_downcasting', True)`\n",
      "  athlete_f  = athlete_f .replace(\"Bronze\", 1)\n"
     ]
    },
    {
     "name": "stdout",
     "output_type": "stream",
     "text": [
      "Training Data Score: 0.9146136618141097\n",
      "Testing Data Score: 0.801007556675063\n",
      "[(np.float64(0.35707687310833336), 'Weight'), (np.float64(0.3224046132110715), 'Height'), (np.float64(0.32051851368059514), 'Age')]\n",
      "----------------------------------------------------\n",
      "Equestrianism\n"
     ]
    },
    {
     "name": "stderr",
     "output_type": "stream",
     "text": [
      "C:\\Users\\KIIT\\AppData\\Local\\Temp\\ipykernel_35732\\420605320.py:12: FutureWarning: Downcasting behavior in `replace` is deprecated and will be removed in a future version. To retain the old behavior, explicitly call `result.infer_objects(copy=False)`. To opt-in to the future behavior, set `pd.set_option('future.no_silent_downcasting', True)`\n",
      "  athlete_f  = athlete_f .replace(\"Bronze\", 1)\n"
     ]
    },
    {
     "name": "stdout",
     "output_type": "stream",
     "text": [
      "Training Data Score: 0.9168627450980392\n",
      "Testing Data Score: 0.8388235294117647\n",
      "[(np.float64(0.3674164686241763), 'Age'), (np.float64(0.3204533301634834), 'Weight'), (np.float64(0.31213020121234036), 'Height')]\n",
      "----------------------------------------------------\n",
      "Shooting\n"
     ]
    },
    {
     "name": "stderr",
     "output_type": "stream",
     "text": [
      "C:\\Users\\KIIT\\AppData\\Local\\Temp\\ipykernel_35732\\420605320.py:12: FutureWarning: Downcasting behavior in `replace` is deprecated and will be removed in a future version. To retain the old behavior, explicitly call `result.infer_objects(copy=False)`. To opt-in to the future behavior, set `pd.set_option('future.no_silent_downcasting', True)`\n",
      "  athlete_f  = athlete_f .replace(\"Bronze\", 1)\n"
     ]
    },
    {
     "name": "stdout",
     "output_type": "stream",
     "text": [
      "Training Data Score: 0.9745055992375506\n",
      "Testing Data Score: 0.9035025017869907\n",
      "[(np.float64(0.3892416900449542), 'Weight'), (np.float64(0.31028793033625257), 'Height'), (np.float64(0.3004703796187933), 'Age')]\n",
      "----------------------------------------------------\n",
      "Boxing\n"
     ]
    },
    {
     "name": "stderr",
     "output_type": "stream",
     "text": [
      "C:\\Users\\KIIT\\AppData\\Local\\Temp\\ipykernel_35732\\420605320.py:12: FutureWarning: Downcasting behavior in `replace` is deprecated and will be removed in a future version. To retain the old behavior, explicitly call `result.infer_objects(copy=False)`. To opt-in to the future behavior, set `pd.set_option('future.no_silent_downcasting', True)`\n",
      "  athlete_f  = athlete_f .replace(\"Bronze\", 1)\n"
     ]
    },
    {
     "name": "stdout",
     "output_type": "stream",
     "text": [
      "Training Data Score: 0.9275092936802974\n",
      "Testing Data Score: 0.8169144981412639\n",
      "[(np.float64(0.4193108912361023), 'Height'), (np.float64(0.3491938632750726), 'Weight'), (np.float64(0.23149524548882514), 'Age')]\n",
      "----------------------------------------------------\n",
      "Taekwondo\n"
     ]
    },
    {
     "name": "stderr",
     "output_type": "stream",
     "text": [
      "C:\\Users\\KIIT\\AppData\\Local\\Temp\\ipykernel_35732\\420605320.py:12: FutureWarning: Downcasting behavior in `replace` is deprecated and will be removed in a future version. To retain the old behavior, explicitly call `result.infer_objects(copy=False)`. To opt-in to the future behavior, set `pd.set_option('future.no_silent_downcasting', True)`\n",
      "  athlete_f  = athlete_f .replace(\"Bronze\", 1)\n"
     ]
    },
    {
     "name": "stdout",
     "output_type": "stream",
     "text": [
      "Training Data Score: 0.9956331877729258\n",
      "Testing Data Score: 0.7532467532467533\n",
      "[(np.float64(0.406763240281456), 'Height'), (np.float64(0.2995532872998025), 'Age'), (np.float64(0.29368347241874154), 'Weight')]\n",
      "----------------------------------------------------\n",
      "Cycling\n"
     ]
    },
    {
     "name": "stderr",
     "output_type": "stream",
     "text": [
      "C:\\Users\\KIIT\\AppData\\Local\\Temp\\ipykernel_35732\\420605320.py:12: FutureWarning: Downcasting behavior in `replace` is deprecated and will be removed in a future version. To retain the old behavior, explicitly call `result.infer_objects(copy=False)`. To opt-in to the future behavior, set `pd.set_option('future.no_silent_downcasting', True)`\n",
      "  athlete_f  = athlete_f .replace(\"Bronze\", 1)\n"
     ]
    },
    {
     "name": "stdout",
     "output_type": "stream",
     "text": [
      "Training Data Score: 0.9457219805262067\n",
      "Testing Data Score: 0.8596273291925466\n",
      "[(np.float64(0.39146956486286205), 'Weight'), (np.float64(0.3235867335099409), 'Height'), (np.float64(0.284943701627197), 'Age')]\n",
      "----------------------------------------------------\n",
      "Diving\n"
     ]
    },
    {
     "name": "stderr",
     "output_type": "stream",
     "text": [
      "C:\\Users\\KIIT\\AppData\\Local\\Temp\\ipykernel_35732\\420605320.py:12: FutureWarning: Downcasting behavior in `replace` is deprecated and will be removed in a future version. To retain the old behavior, explicitly call `result.infer_objects(copy=False)`. To opt-in to the future behavior, set `pd.set_option('future.no_silent_downcasting', True)`\n",
      "  athlete_f  = athlete_f .replace(\"Bronze\", 1)\n"
     ]
    },
    {
     "name": "stdout",
     "output_type": "stream",
     "text": [
      "Training Data Score: 0.948849104859335\n",
      "Testing Data Score: 0.8275862068965517\n",
      "[(np.float64(0.33847563715109774), 'Age'), (np.float64(0.33418002465379404), 'Weight'), (np.float64(0.3273443381951082), 'Height')]\n",
      "----------------------------------------------------\n",
      "Canoeing\n"
     ]
    },
    {
     "name": "stderr",
     "output_type": "stream",
     "text": [
      "C:\\Users\\KIIT\\AppData\\Local\\Temp\\ipykernel_35732\\420605320.py:12: FutureWarning: Downcasting behavior in `replace` is deprecated and will be removed in a future version. To retain the old behavior, explicitly call `result.infer_objects(copy=False)`. To opt-in to the future behavior, set `pd.set_option('future.no_silent_downcasting', True)`\n",
      "  athlete_f  = athlete_f .replace(\"Bronze\", 1)\n"
     ]
    },
    {
     "name": "stdout",
     "output_type": "stream",
     "text": [
      "Training Data Score: 0.9344159900062461\n",
      "Testing Data Score: 0.7818352059925093\n",
      "[(np.float64(0.35692133279182414), 'Weight'), (np.float64(0.3549559937002318), 'Height'), (np.float64(0.28812267350794407), 'Age')]\n",
      "----------------------------------------------------\n",
      "Tennis\n"
     ]
    },
    {
     "name": "stderr",
     "output_type": "stream",
     "text": [
      "C:\\Users\\KIIT\\AppData\\Local\\Temp\\ipykernel_35732\\420605320.py:12: FutureWarning: Downcasting behavior in `replace` is deprecated and will be removed in a future version. To retain the old behavior, explicitly call `result.infer_objects(copy=False)`. To opt-in to the future behavior, set `pd.set_option('future.no_silent_downcasting', True)`\n",
      "  athlete_f  = athlete_f .replace(\"Bronze\", 1)\n"
     ]
    },
    {
     "name": "stdout",
     "output_type": "stream",
     "text": [
      "Training Data Score: 0.9591315453384419\n",
      "Testing Data Score: 0.8735632183908046\n",
      "[(np.float64(0.3475760248887735), 'Weight'), (np.float64(0.329345030197682), 'Age'), (np.float64(0.3230789449135445), 'Height')]\n",
      "----------------------------------------------------\n",
      "Modern Pentathlon\n"
     ]
    },
    {
     "name": "stderr",
     "output_type": "stream",
     "text": [
      "C:\\Users\\KIIT\\AppData\\Local\\Temp\\ipykernel_35732\\420605320.py:12: FutureWarning: Downcasting behavior in `replace` is deprecated and will be removed in a future version. To retain the old behavior, explicitly call `result.infer_objects(copy=False)`. To opt-in to the future behavior, set `pd.set_option('future.no_silent_downcasting', True)`\n",
      "  athlete_f  = athlete_f .replace(\"Bronze\", 1)\n"
     ]
    },
    {
     "name": "stdout",
     "output_type": "stream",
     "text": [
      "Training Data Score: 0.9269183922046285\n",
      "Testing Data Score: 0.864963503649635\n",
      "[(np.float64(0.36410656553504334), 'Weight'), (np.float64(0.31958786695682234), 'Height'), (np.float64(0.3163055675081343), 'Age')]\n",
      "----------------------------------------------------\n",
      "Golf\n"
     ]
    },
    {
     "name": "stderr",
     "output_type": "stream",
     "text": [
      "C:\\Users\\KIIT\\AppData\\Local\\Temp\\ipykernel_35732\\420605320.py:12: FutureWarning: Downcasting behavior in `replace` is deprecated and will be removed in a future version. To retain the old behavior, explicitly call `result.infer_objects(copy=False)`. To opt-in to the future behavior, set `pd.set_option('future.no_silent_downcasting', True)`\n",
      "  athlete_f  = athlete_f .replace(\"Bronze\", 1)\n"
     ]
    },
    {
     "name": "stdout",
     "output_type": "stream",
     "text": [
      "Training Data Score: 1.0\n",
      "Testing Data Score: 0.9285714285714286\n",
      "[(np.float64(0.46331130612700683), 'Height'), (np.float64(0.32714169059930115), 'Weight'), (np.float64(0.2095470032736919), 'Age')]\n",
      "----------------------------------------------------\n",
      "Softball\n",
      "An exception occurred\n",
      "----------------------------------------------------\n",
      "Archery\n"
     ]
    },
    {
     "name": "stderr",
     "output_type": "stream",
     "text": [
      "C:\\Users\\KIIT\\AppData\\Local\\Temp\\ipykernel_35732\\420605320.py:12: FutureWarning: Downcasting behavior in `replace` is deprecated and will be removed in a future version. To retain the old behavior, explicitly call `result.infer_objects(copy=False)`. To opt-in to the future behavior, set `pd.set_option('future.no_silent_downcasting', True)`\n",
      "  athlete_f  = athlete_f .replace(\"Bronze\", 1)\n"
     ]
    },
    {
     "name": "stdout",
     "output_type": "stream",
     "text": [
      "Training Data Score: 0.94\n",
      "Testing Data Score: 0.856\n",
      "[(np.float64(0.39865276114430953), 'Weight'), (np.float64(0.33304623543135703), 'Age'), (np.float64(0.2683010034243334), 'Height')]\n",
      "----------------------------------------------------\n",
      "Volleyball\n"
     ]
    },
    {
     "name": "stderr",
     "output_type": "stream",
     "text": [
      "C:\\Users\\KIIT\\AppData\\Local\\Temp\\ipykernel_35732\\420605320.py:12: FutureWarning: Downcasting behavior in `replace` is deprecated and will be removed in a future version. To retain the old behavior, explicitly call `result.infer_objects(copy=False)`. To opt-in to the future behavior, set `pd.set_option('future.no_silent_downcasting', True)`\n",
      "  athlete_f  = athlete_f .replace(\"Bronze\", 1)\n"
     ]
    },
    {
     "name": "stdout",
     "output_type": "stream",
     "text": [
      "Training Data Score: 0.9595808383233533\n",
      "Testing Data Score: 0.6210762331838565\n",
      "[(np.float64(0.3708298798638926), 'Weight'), (np.float64(0.35643081640234187), 'Height'), (np.float64(0.2727393037337655), 'Age')]\n",
      "----------------------------------------------------\n",
      "Synchronized Swimming\n",
      "An exception occurred\n",
      "----------------------------------------------------\n",
      "Table Tennis\n"
     ]
    },
    {
     "name": "stderr",
     "output_type": "stream",
     "text": [
      "C:\\Users\\KIIT\\AppData\\Local\\Temp\\ipykernel_35732\\420605320.py:12: FutureWarning: Downcasting behavior in `replace` is deprecated and will be removed in a future version. To retain the old behavior, explicitly call `result.infer_objects(copy=False)`. To opt-in to the future behavior, set `pd.set_option('future.no_silent_downcasting', True)`\n",
      "  athlete_f  = athlete_f .replace(\"Bronze\", 1)\n"
     ]
    },
    {
     "name": "stdout",
     "output_type": "stream",
     "text": [
      "Training Data Score: 0.9553956834532374\n",
      "Testing Data Score: 0.8836206896551724\n",
      "[(np.float64(0.35133180479793447), 'Weight'), (np.float64(0.3387653364365081), 'Age'), (np.float64(0.3099028587655575), 'Height')]\n",
      "----------------------------------------------------\n",
      "Baseball\n"
     ]
    },
    {
     "name": "stderr",
     "output_type": "stream",
     "text": [
      "C:\\Users\\KIIT\\AppData\\Local\\Temp\\ipykernel_35732\\420605320.py:12: FutureWarning: Downcasting behavior in `replace` is deprecated and will be removed in a future version. To retain the old behavior, explicitly call `result.infer_objects(copy=False)`. To opt-in to the future behavior, set `pd.set_option('future.no_silent_downcasting', True)`\n",
      "  athlete_f  = athlete_f .replace(\"Bronze\", 1)\n"
     ]
    },
    {
     "name": "stdout",
     "output_type": "stream",
     "text": [
      "Training Data Score: 0.9716088328075709\n",
      "Testing Data Score: 0.5566037735849056\n",
      "[(np.float64(0.3950157969013371), 'Weight'), (np.float64(0.33116825776951403), 'Height'), (np.float64(0.2738159453291489), 'Age')]\n",
      "----------------------------------------------------\n",
      "Rhythmic Gymnastics\n",
      "An exception occurred\n",
      "----------------------------------------------------\n",
      "Rugby Sevens\n"
     ]
    },
    {
     "name": "stderr",
     "output_type": "stream",
     "text": [
      "C:\\Users\\KIIT\\AppData\\Local\\Temp\\ipykernel_35732\\420605320.py:12: FutureWarning: Downcasting behavior in `replace` is deprecated and will be removed in a future version. To retain the old behavior, explicitly call `result.infer_objects(copy=False)`. To opt-in to the future behavior, set `pd.set_option('future.no_silent_downcasting', True)`\n",
      "  athlete_f  = athlete_f .replace(\"Bronze\", 1)\n"
     ]
    },
    {
     "name": "stdout",
     "output_type": "stream",
     "text": [
      "Training Data Score: 1.0\n",
      "Testing Data Score: 0.6842105263157895\n",
      "[(np.float64(0.3901193557331002), 'Height'), (np.float64(0.3534732491632647), 'Weight'), (np.float64(0.2564073951036352), 'Age')]\n",
      "----------------------------------------------------\n",
      "Trampolining\n"
     ]
    },
    {
     "name": "stderr",
     "output_type": "stream",
     "text": [
      "C:\\Users\\KIIT\\AppData\\Local\\Temp\\ipykernel_35732\\420605320.py:12: FutureWarning: Downcasting behavior in `replace` is deprecated and will be removed in a future version. To retain the old behavior, explicitly call `result.infer_objects(copy=False)`. To opt-in to the future behavior, set `pd.set_option('future.no_silent_downcasting', True)`\n",
      "  athlete_f  = athlete_f .replace(\"Bronze\", 1)\n"
     ]
    },
    {
     "name": "stdout",
     "output_type": "stream",
     "text": [
      "Training Data Score: 1.0\n",
      "Testing Data Score: 0.7894736842105263\n",
      "[(np.float64(0.4171051075381938), 'Weight'), (np.float64(0.30716802365659474), 'Age'), (np.float64(0.2757268688052116), 'Height')]\n",
      "----------------------------------------------------\n",
      "Beach Volleyball\n"
     ]
    },
    {
     "name": "stderr",
     "output_type": "stream",
     "text": [
      "C:\\Users\\KIIT\\AppData\\Local\\Temp\\ipykernel_35732\\420605320.py:12: FutureWarning: Downcasting behavior in `replace` is deprecated and will be removed in a future version. To retain the old behavior, explicitly call `result.infer_objects(copy=False)`. To opt-in to the future behavior, set `pd.set_option('future.no_silent_downcasting', True)`\n",
      "  athlete_f  = athlete_f .replace(\"Bronze\", 1)\n"
     ]
    },
    {
     "name": "stdout",
     "output_type": "stream",
     "text": [
      "Training Data Score: 0.9950980392156863\n",
      "Testing Data Score: 0.9130434782608695\n",
      "[(np.float64(0.3435123869215266), 'Height'), (np.float64(0.3292272370043089), 'Age'), (np.float64(0.3272603760741646), 'Weight')]\n",
      "----------------------------------------------------\n",
      "Triathlon\n"
     ]
    },
    {
     "name": "stderr",
     "output_type": "stream",
     "text": [
      "C:\\Users\\KIIT\\AppData\\Local\\Temp\\ipykernel_35732\\420605320.py:12: FutureWarning: Downcasting behavior in `replace` is deprecated and will be removed in a future version. To retain the old behavior, explicitly call `result.infer_objects(copy=False)`. To opt-in to the future behavior, set `pd.set_option('future.no_silent_downcasting', True)`\n",
      "  athlete_f  = athlete_f .replace(\"Bronze\", 1)\n"
     ]
    },
    {
     "name": "stdout",
     "output_type": "stream",
     "text": [
      "Training Data Score: 1.0\n",
      "Testing Data Score: 0.9104477611940298\n",
      "[(np.float64(0.38863031736390824), 'Height'), (np.float64(0.32529395172940334), 'Age'), (np.float64(0.28607573090668853), 'Weight')]\n",
      "----------------------------------------------------\n",
      "Rugby\n",
      "Training Data Score: 1.0\n"
     ]
    },
    {
     "name": "stderr",
     "output_type": "stream",
     "text": [
      "C:\\Users\\KIIT\\AppData\\Local\\Temp\\ipykernel_35732\\420605320.py:11: FutureWarning: Downcasting behavior in `replace` is deprecated and will be removed in a future version. To retain the old behavior, explicitly call `result.infer_objects(copy=False)`. To opt-in to the future behavior, set `pd.set_option('future.no_silent_downcasting', True)`\n",
      "  athlete_f  = athlete_f .replace(\"Silver\", 1)\n"
     ]
    },
    {
     "name": "stdout",
     "output_type": "stream",
     "text": [
      "Testing Data Score: 1.0\n",
      "[(np.float64(0.0), 'Weight'), (np.float64(0.0), 'Height'), (np.float64(0.0), 'Age')]\n",
      "----------------------------------------------------\n",
      "Lacrosse\n",
      "Training Data Score: 1.0\n"
     ]
    },
    {
     "name": "stderr",
     "output_type": "stream",
     "text": [
      "C:\\Users\\KIIT\\AppData\\Local\\Temp\\ipykernel_35732\\420605320.py:10: FutureWarning: Downcasting behavior in `replace` is deprecated and will be removed in a future version. To retain the old behavior, explicitly call `result.infer_objects(copy=False)`. To opt-in to the future behavior, set `pd.set_option('future.no_silent_downcasting', True)`\n",
      "  athlete_f  = athlete_f .replace(\"Gold\", 1)\n"
     ]
    },
    {
     "name": "stdout",
     "output_type": "stream",
     "text": [
      "Testing Data Score: 1.0\n",
      "[(np.float64(0.0), 'Weight'), (np.float64(0.0), 'Height'), (np.float64(0.0), 'Age')]\n",
      "----------------------------------------------------\n",
      "Polo\n",
      "An exception occurred\n",
      "----------------------------------------------------\n",
      "Cricket\n",
      "An exception occurred\n",
      "----------------------------------------------------\n",
      "Ice Hockey\n"
     ]
    },
    {
     "name": "stderr",
     "output_type": "stream",
     "text": [
      "C:\\Users\\KIIT\\AppData\\Local\\Temp\\ipykernel_35732\\420605320.py:11: FutureWarning: Downcasting behavior in `replace` is deprecated and will be removed in a future version. To retain the old behavior, explicitly call `result.infer_objects(copy=False)`. To opt-in to the future behavior, set `pd.set_option('future.no_silent_downcasting', True)`\n",
      "  athlete_f  = athlete_f .replace(\"Silver\", 1)\n"
     ]
    },
    {
     "name": "stdout",
     "output_type": "stream",
     "text": [
      "Training Data Score: 1.0\n",
      "Testing Data Score: 1.0\n",
      "[(np.float64(0.0), 'Weight'), (np.float64(0.0), 'Height'), (np.float64(0.0), 'Age')]\n",
      "----------------------------------------------------\n",
      "Racquets\n",
      "An exception occurred\n",
      "----------------------------------------------------\n",
      "Motorboating\n",
      "An exception occurred\n",
      "----------------------------------------------------\n",
      "Croquet\n",
      "An exception occurred\n",
      "----------------------------------------------------\n",
      "Figure Skating\n",
      "An exception occurred\n",
      "----------------------------------------------------\n",
      "Jeu De Paume\n",
      "An exception occurred\n",
      "----------------------------------------------------\n",
      "Roque\n",
      "An exception occurred\n",
      "----------------------------------------------------\n",
      "Basque Pelota\n",
      "An exception occurred\n",
      "----------------------------------------------------\n",
      "Alpinism\n",
      "An exception occurred\n",
      "----------------------------------------------------\n",
      "Aeronautics\n",
      "An exception occurred\n",
      "----------------------------------------------------\n"
     ]
    },
    {
     "name": "stderr",
     "output_type": "stream",
     "text": [
      "C:\\Users\\KIIT\\AppData\\Local\\Temp\\ipykernel_35732\\420605320.py:13: FutureWarning: Downcasting object dtype arrays on .fillna, .ffill, .bfill is deprecated and will change in a future version. Call result.infer_objects(copy=False) instead. To opt-in to the future behavior, set `pd.set_option('future.no_silent_downcasting', True)`\n",
      "  athlete_f [\"Medal\"] = athlete_f [\"Medal\"].fillna(0)\n",
      "C:\\Users\\KIIT\\AppData\\Local\\Temp\\ipykernel_35732\\420605320.py:10: FutureWarning: Downcasting behavior in `replace` is deprecated and will be removed in a future version. To retain the old behavior, explicitly call `result.infer_objects(copy=False)`. To opt-in to the future behavior, set `pd.set_option('future.no_silent_downcasting', True)`\n",
      "  athlete_f  = athlete_f .replace(\"Gold\", 1)\n"
     ]
    }
   ],
   "source": [
    "# For loop to train the Random Forest model and get the testing score for female athletes in every Summer Olympic Sport\n",
    "for sport in summer_sports:\n",
    "    try:\n",
    "        athlete_f  = summer_data[(summer_data[\"Sport\"] == f'{sport}') & (summer_data[\"Sex\"] == \"M\")]\n",
    "        athlete_f  = athlete_f [[\"Age\", \"Height\", \"Weight\", \"Medal\"]]\n",
    "        athlete_f  = athlete_f .dropna(subset=['Height', 'Weight']).reset_index(drop = True)\n",
    "        \n",
    "        # One-hot encoding                \n",
    "\n",
    "        athlete_f  = athlete_f .replace(\"Gold\", 1)\n",
    "        athlete_f  = athlete_f .replace(\"Silver\", 1)\n",
    "        athlete_f  = athlete_f .replace(\"Bronze\", 1)\n",
    "        athlete_f [\"Medal\"] = athlete_f [\"Medal\"].fillna(0)\n",
    "        athlete_f  = athlete_f .dropna()\n",
    "        athlete_f [\"Medal\"].unique()\n",
    "\n",
    "        print(sport)\n",
    "        \n",
    "        # Assign X (data) and y (target)        \n",
    "\n",
    "        target = athlete_f [\"Medal\"]\n",
    "        target_names = [\"Medals\", \"None\"]\n",
    "        data = athlete_f .drop(\"Medal\", axis=1)\n",
    "        feature_names = data.columns\n",
    "        data.head()\n",
    "        \n",
    "        # Split our data into training and testing\n",
    "\n",
    "        X_train, X_test, y_train, y_test = train_test_split(data, target, random_state=42)\n",
    "        clf = tree.DecisionTreeClassifier()\n",
    "        clf = clf.fit(X_train, y_train)\n",
    "        clf.score(X_test, y_test)\n",
    "        \n",
    "        # Create a random forest classifier\n",
    "\n",
    "        rf = RandomForestClassifier(n_estimators=200)\n",
    "        rf = rf.fit(X_train, y_train)\n",
    "        print(\"Training Data Score:\", rf.score(X_train, y_train)) \n",
    "        print(\"Testing Data Score:\", rf.score(X_test, y_test))\n",
    "        \n",
    "        # Sort the features by their importance\n",
    "        \n",
    "        print(sorted(zip(rf.feature_importances_, feature_names), reverse=True))\n",
    "        print(\"----------------------------------------------------\")\n",
    "    except:\n",
    "        print(\"An exception occurred\")\n",
    "        print(\"----------------------------------------------------\")"
   ]
  },
  {
   "cell_type": "code",
   "execution_count": null,
   "metadata": {},
   "outputs": [],
   "source": []
  }
 ],
 "metadata": {
  "kernelspec": {
   "display_name": "Python 3",
   "language": "python",
   "name": "python3"
  },
  "language_info": {
   "codemirror_mode": {
    "name": "ipython",
    "version": 3
   },
   "file_extension": ".py",
   "mimetype": "text/x-python",
   "name": "python",
   "nbconvert_exporter": "python",
   "pygments_lexer": "ipython3",
   "version": "3.12.3"
  }
 },
 "nbformat": 4,
 "nbformat_minor": 4
}
