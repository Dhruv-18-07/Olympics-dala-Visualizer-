{
 "cells": [
  {
   "cell_type": "code",
   "execution_count": null,
   "metadata": {},
   "outputs": [],
   "source": [
    "from pandas import read_csv\n",
    "from datetime import datetime\n",
    "from pandas import DataFrame\n",
    "#from statsmodels.tsa.arima_model import ARIMA\n",
    "from statsmodels.tsa.arima.model import ARIMA\n",
    "\n",
    "from matplotlib import pyplot\n",
    "import pandas as pd"
   ]
  },
  {
   "cell_type": "code",
   "execution_count": 1,
   "metadata": {},
   "outputs": [
    {
     "ename": "NameError",
     "evalue": "name 'pd' is not defined",
     "output_type": "error",
     "traceback": [
      "\u001b[31m---------------------------------------------------------------------------\u001b[39m",
      "\u001b[31mNameError\u001b[39m                                 Traceback (most recent call last)",
      "\u001b[36mCell\u001b[39m\u001b[36m \u001b[39m\u001b[32mIn[1]\u001b[39m\u001b[32m, line 2\u001b[39m\n\u001b[32m      1\u001b[39m \u001b[38;5;66;03m# Reading the data\u001b[39;00m\n\u001b[32m----> \u001b[39m\u001b[32m2\u001b[39m df = \u001b[43mpd\u001b[49m.read_csv(\u001b[33m\"\u001b[39m\u001b[33msummer_athlete_medals_count.csv\u001b[39m\u001b[33m\"\u001b[39m)\n\u001b[32m      3\u001b[39m \u001b[38;5;28mprint\u001b[39m(df.shape)\n\u001b[32m      4\u001b[39m \u001b[38;5;28mprint\u001b[39m(df.info())\n",
      "\u001b[31mNameError\u001b[39m: name 'pd' is not defined"
     ]
    }
   ],
   "source": [
    "# Reading the data\n",
    "df = pd.read_csv(\"summer_athlete_medals_count.csv\")\n",
    "print(df.shape)\n",
    "print(df.info())\n",
    "df.head()\n"
   ]
  },
  {
   "cell_type": "code",
   "execution_count": null,
   "metadata": {},
   "outputs": [],
   "source": [
    "# usa_df =  df[(df.Country == \"USA\") & (df.Year >= 1896)]\n",
    "# usa_df_gold = usa_df[[\"Year\", \"Gold\"]]\n",
    "# usa_df_gold.dropna(inplace=True)\n",
    "# df1 = pd.DataFrame([[2020, 0]], columns=list([\"Year\", \"Gold\"]))\n",
    "# usa_df_gold = usa_df_gold.append(df1, ignore_index=True)\n",
    "# usa_df_gold.to_csv('usa_gold_data.csv', index=False)\n",
    "\n",
    "# usa_df_silver = usa_df[[\"Year\", \"Silver\"]]\n",
    "# usa_df_silver.dropna(inplace=True)\n",
    "# df2 = pd.DataFrame([[2020, 0]], columns=list([\"Year\", \"Silver\"]))\n",
    "# usa_df_silver = usa_df_silver.append(df2, ignore_index=True)\n",
    "# usa_df_silver.to_csv('usa_silver_data.csv', index=False)\n",
    "\n",
    "# usa_df_bronze = usa_df[[\"Year\", \"Bronze\"]]\n",
    "# usa_df_bronze.dropna(inplace=True)\n",
    "# df3 = pd.DataFrame([[2020, 0]], columns=list([\"Year\", \"Bronze\"]))\n",
    "# usa_df_bronze = usa_df_bronze.append(df3, ignore_index=True)\n",
    "# usa_df_bronze\n",
    "# usa_df_bronze.to_csv('usa_bronze_data.csv', index=False)\n",
    "\n",
    "# usa_df_total = usa_df[[\"Year\", \"Medals\"]]\n",
    "# usa_df_total.dropna(inplace=True)\n",
    "# df5 = pd.DataFrame([[2020, 0]], columns=list([\"Year\", \"Medals\"]))\n",
    "# usa_df_total = usa_df_total.append(df5, ignore_index=True)\n",
    "# usa_df_total\n",
    "# usa_df_total.to_csv('usa_total_data.csv', index=False)\n",
    "\n",
    "# Create explicit copies when slicing to avoid SettingWithCopyWarning\n",
    "usa_df = df[(df.Country == \"USA\") & (df.Year >= 1896)]\n",
    "\n",
    "# Process Gold medal data\n",
    "usa_df_gold = usa_df[[\"Year\", \"Gold\"]].copy()  # Create explicit copy\n",
    "usa_df_gold.dropna(inplace=True)\n",
    "df1 = pd.DataFrame([[2020, 0]], columns=[\"Year\", \"Gold\"])\n",
    "# Use pd.concat instead of append (which is deprecated)\n",
    "usa_df_gold = pd.concat([usa_df_gold, df1], ignore_index=True)\n",
    "usa_df_gold.to_csv('usa_gold_data.csv', index=False)\n",
    "\n",
    "# Process Silver medal data\n",
    "usa_df_silver = usa_df[[\"Year\", \"Silver\"]].copy()  # Create explicit copy\n",
    "usa_df_silver.dropna(inplace=True)\n",
    "df2 = pd.DataFrame([[2020, 0]], columns=[\"Year\", \"Silver\"])\n",
    "usa_df_silver = pd.concat([usa_df_silver, df2], ignore_index=True)\n",
    "usa_df_silver.to_csv('usa_silver_data.csv', index=False)\n",
    "\n",
    "# Process Bronze medal data\n",
    "usa_df_bronze = usa_df[[\"Year\", \"Bronze\"]].copy()  # Create explicit copy\n",
    "usa_df_bronze.dropna(inplace=True)\n",
    "df3 = pd.DataFrame([[2020, 0]], columns=[\"Year\", \"Bronze\"])\n",
    "usa_df_bronze = pd.concat([usa_df_bronze, df3], ignore_index=True)\n",
    "usa_df_bronze.to_csv('usa_bronze_data.csv', index=False)\n",
    "\n",
    "# Process Total medals data\n",
    "usa_df_total = usa_df[[\"Year\", \"Medals\"]].copy()  # Create explicit copy\n",
    "usa_df_total.dropna(inplace=True)\n",
    "df5 = pd.DataFrame([[2020, 0]], columns=[\"Year\", \"Medals\"])\n",
    "usa_df_total = pd.concat([usa_df_total, df5], ignore_index=True)\n",
    "usa_df_total.to_csv('usa_total_data.csv', index=False)\n"
   ]
  },
  {
   "cell_type": "code",
   "execution_count": null,
   "metadata": {},
   "outputs": [
    {
     "name": "stdout",
     "output_type": "stream",
     "text": [
      "Year=2004, predicted=104, actual=101\n"
     ]
    },
    {
     "name": "stderr",
     "output_type": "stream",
     "text": [
      "C:\\Users\\KIIT\\AppData\\Local\\Temp\\ipykernel_27424\\1443365278.py:6: FutureWarning: The argument 'date_parser' is deprecated and will be removed in a future version. Please use 'date_format' instead, or read your data in as 'object' dtype and then call 'to_datetime'.\n",
      "  series = read_csv('usa_total_data.csv', header=0, parse_dates=[0], index_col=0, date_parser=parser)\n",
      "C:\\Users\\KIIT\\AppData\\Local\\Temp\\ipykernel_27424\\1443365278.py:26: DeprecationWarning: Conversion of an array with ndim > 0 to a scalar is deprecated, and will error in future. Ensure you extract a single element from your array before performing this operation. (Deprecated NumPy 1.25.)\n",
      "  print('Year=%i, predicted=%i, actual=%i' % (df4['Year'][size],yhat, obs))\n"
     ]
    },
    {
     "name": "stdout",
     "output_type": "stream",
     "text": [
      "Year=2008, predicted=101, actual=110\n",
      "Year=2012, predicted=105, actual=103\n",
      "Year=2016, predicted=106, actual=121\n",
      "4\n",
      "Test MSE: 33.138\n"
     ]
    },
    {
     "data": {
      "image/png": "[encoded data removed]",
      "text/plain": [
       "<Figure size 640x480 with 1 Axes>"
      ]
     },
     "metadata": {},
     "output_type": "display_data"
    }
   ],
   "source": [
    "from sklearn.metrics import mean_squared_error\n",
    "def parser(x):\n",
    "    #return datetime.strptime('190'+x, '%Y-%m')* add squeeze in line series block squeeze  True aftr index_col\n",
    "    return datetime.strptime(x, '%Y')\n",
    "\n",
    "series = read_csv('usa_total_data.csv', header=0, parse_dates=[0], index_col=0, date_parser=parser)\n",
    "df4 = pd.read_csv(\"usa_total_data.csv\")\n",
    "error = []\n",
    "X = series.values\n",
    "#print(df4['Year'][0])\n",
    "size = int(len(X) * 0.85)\n",
    "train, test = X[0:size-1], X[size:len(X)-1]\n",
    "history = [x for x in train]\n",
    "predictions = list()\n",
    "#print(test)\n",
    "for t in range(len(test)):\n",
    "    model = ARIMA(history, order=(1,1,0))\n",
    "    #print(model)\n",
    "    model_fit = model.fit() #disp = 0  pass arguement\n",
    "    #print(model_fit)\n",
    "    output = model_fit.forecast()\n",
    "    yhat = output[0]\n",
    "    predictions.append(yhat)\n",
    "    obs = test[t]\n",
    "    history.append(obs)\n",
    "    print('Year=%i, predicted=%i, actual=%i' % (df4['Year'][size],yhat, obs))\n",
    "    size +=1\n",
    "print(len(test))\n",
    "test_value = test[:-1]\n",
    "predictions_value = predictions[:-1]\n",
    "error = mean_squared_error(test_value, predictions_value)\n",
    "print('Test MSE: %.3f' % error)\n",
    "# plot\n",
    "pyplot.plot(test)\n",
    "pyplot.plot(predictions, color='red')\n",
    "pyplot.show()"
   ]
  },
  {
   "cell_type": "code",
   "execution_count": null,
   "metadata": {},
   "outputs": [],
   "source": []
  }
 ],
 "metadata": {
  "kernelspec": {
   "display_name": "Python 3",
   "language": "python",
   "name": "python3"
  },
  "language_info": {
   "codemirror_mode": {
    "name": "ipython",
    "version": 3
   },
   "file_extension": ".py",
   "mimetype": "text/x-python",
   "name": "python",
   "nbconvert_exporter": "python",
   "pygments_lexer": "ipython3",
   "version": "3.12.3"
  }
 },
 "nbformat": 4,
 "nbformat_minor": 2
}
